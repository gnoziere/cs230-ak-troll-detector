{
  "nbformat": 4,
  "nbformat_minor": 0,
  "metadata": {
    "accelerator": "GPU",
    "colab": {
      "name": "Troll Detector Model.ipynb",
      "provenance": [],
      "collapsed_sections": [],
      "include_colab_link": true
    },
    "kernelspec": {
      "display_name": "Python 3",
      "language": "python",
      "name": "python3"
    },
    "language_info": {
      "codemirror_mode": {
        "name": "ipython",
        "version": 3
      },
      "file_extension": ".py",
      "mimetype": "text/x-python",
      "name": "python",
      "nbconvert_exporter": "python",
      "pygments_lexer": "ipython3",
      "version": "3.8.8"
    }
  },
  "cells": [
    {
      "cell_type": "markdown",
      "metadata": {
        "id": "view-in-github",
        "colab_type": "text"
      },
      "source": [
        "<a href=\"https://colab.research.google.com/github/gnoziere/cs230-ak-troll-detector/blob/main/Troll_Detector_Model.ipynb\" target=\"_parent\"><img src=\"https://colab.research.google.com/assets/colab-badge.svg\" alt=\"Open In Colab\"/></a>"
      ]
    },
    {
      "cell_type": "markdown",
      "metadata": {
        "id": "rKlQ_HQx3AiV"
      },
      "source": [
        "## Load data from CSV files"
      ]
    },
    {
      "cell_type": "code",
      "metadata": {
        "id": "7Zg2pxS2debl",
        "outputId": "d82bb725-2f18-4f63-fdd5-091091fdfa12",
        "colab": {
          "base_uri": "https://localhost:8080/"
        }
      },
      "source": [
        "from google.colab import drive\n",
        "drive.mount('/content/drive')"
      ],
      "execution_count": 133,
      "outputs": [
        {
          "output_type": "stream",
          "name": "stdout",
          "text": [
            "Drive already mounted at /content/drive; to attempt to forcibly remount, call drive.mount(\"/content/drive\", force_remount=True).\n"
          ]
        }
      ]
    },
    {
      "cell_type": "code",
      "metadata": {
        "colab": {
          "base_uri": "https://localhost:8080/"
        },
        "id": "cTBgS-28lQ5Q",
        "outputId": "1eeb15c3-667b-429d-bccd-70b08ca0db5c"
      },
      "source": [
        "!pip3 install transformers tweet-preprocessor emoji"
      ],
      "execution_count": 134,
      "outputs": [
        {
          "output_type": "stream",
          "name": "stdout",
          "text": [
            "Requirement already satisfied: transformers in /usr/local/lib/python3.7/dist-packages (4.12.5)\n",
            "Requirement already satisfied: tweet-preprocessor in /usr/local/lib/python3.7/dist-packages (0.6.0)\n",
            "Requirement already satisfied: emoji in /usr/local/lib/python3.7/dist-packages (1.6.1)\n",
            "Requirement already satisfied: packaging>=20.0 in /usr/local/lib/python3.7/dist-packages (from transformers) (21.3)\n",
            "Requirement already satisfied: tqdm>=4.27 in /usr/local/lib/python3.7/dist-packages (from transformers) (4.62.3)\n",
            "Requirement already satisfied: huggingface-hub<1.0,>=0.1.0 in /usr/local/lib/python3.7/dist-packages (from transformers) (0.1.2)\n",
            "Requirement already satisfied: tokenizers<0.11,>=0.10.1 in /usr/local/lib/python3.7/dist-packages (from transformers) (0.10.3)\n",
            "Requirement already satisfied: requests in /usr/local/lib/python3.7/dist-packages (from transformers) (2.23.0)\n",
            "Requirement already satisfied: regex!=2019.12.17 in /usr/local/lib/python3.7/dist-packages (from transformers) (2019.12.20)\n",
            "Requirement already satisfied: filelock in /usr/local/lib/python3.7/dist-packages (from transformers) (3.4.0)\n",
            "Requirement already satisfied: numpy>=1.17 in /usr/local/lib/python3.7/dist-packages (from transformers) (1.19.5)\n",
            "Requirement already satisfied: pyyaml>=5.1 in /usr/local/lib/python3.7/dist-packages (from transformers) (6.0)\n",
            "Requirement already satisfied: sacremoses in /usr/local/lib/python3.7/dist-packages (from transformers) (0.0.46)\n",
            "Requirement already satisfied: importlib-metadata in /usr/local/lib/python3.7/dist-packages (from transformers) (4.8.2)\n",
            "Requirement already satisfied: typing-extensions>=3.7.4.3 in /usr/local/lib/python3.7/dist-packages (from huggingface-hub<1.0,>=0.1.0->transformers) (3.10.0.2)\n",
            "Requirement already satisfied: pyparsing!=3.0.5,>=2.0.2 in /usr/local/lib/python3.7/dist-packages (from packaging>=20.0->transformers) (3.0.6)\n",
            "Requirement already satisfied: zipp>=0.5 in /usr/local/lib/python3.7/dist-packages (from importlib-metadata->transformers) (3.6.0)\n",
            "Requirement already satisfied: chardet<4,>=3.0.2 in /usr/local/lib/python3.7/dist-packages (from requests->transformers) (3.0.4)\n",
            "Requirement already satisfied: certifi>=2017.4.17 in /usr/local/lib/python3.7/dist-packages (from requests->transformers) (2021.10.8)\n",
            "Requirement already satisfied: urllib3!=1.25.0,!=1.25.1,<1.26,>=1.21.1 in /usr/local/lib/python3.7/dist-packages (from requests->transformers) (1.24.3)\n",
            "Requirement already satisfied: idna<3,>=2.5 in /usr/local/lib/python3.7/dist-packages (from requests->transformers) (2.10)\n",
            "Requirement already satisfied: click in /usr/local/lib/python3.7/dist-packages (from sacremoses->transformers) (7.1.2)\n",
            "Requirement already satisfied: six in /usr/local/lib/python3.7/dist-packages (from sacremoses->transformers) (1.15.0)\n",
            "Requirement already satisfied: joblib in /usr/local/lib/python3.7/dist-packages (from sacremoses->transformers) (1.1.0)\n"
          ]
        }
      ]
    },
    {
      "cell_type": "code",
      "metadata": {
        "id": "MGQyqJMhk3yV"
      },
      "source": [
        "import math\n",
        "import numpy as np\n",
        "import pandas as pd\n",
        "import torch\n",
        "import torch.nn as nn\n",
        "import torch.nn.functional as F\n",
        "from torch.utils.data import DataLoader, RandomSampler, SequentialSampler\n",
        "\n",
        "from transformers import AutoModel, AutoTokenizer"
      ],
      "execution_count": 135,
      "outputs": []
    },
    {
      "cell_type": "code",
      "metadata": {
        "id": "QRGKsjd4G42r"
      },
      "source": [
        "device = \"cuda\""
      ],
      "execution_count": 136,
      "outputs": []
    },
    {
      "cell_type": "code",
      "metadata": {
        "id": "aQHcmvtErGIv"
      },
      "source": [
        "# Define paths\n",
        "positive_data_path = \"/content/drive/MyDrive/turkey_052020_tweets_csv_hashed_2011.csv\"\n",
        "negative_data_path = \"/content/drive/MyDrive/turkey_052020_tweets_csv_hashed_2020_01.csv\"\n",
        "model_path = \"dbmdz/distilbert-base-turkish-cased\""
      ],
      "execution_count": 137,
      "outputs": []
    },
    {
      "cell_type": "code",
      "metadata": {
        "colab": {
          "base_uri": "https://localhost:8080/"
        },
        "id": "dVgKY-PJpYEi",
        "outputId": "b3bb26ad-748e-4521-e8bc-7d94f6707eab"
      },
      "source": [
        "import os\n",
        "cwd = os.getcwd()\n",
        "\n",
        "#positive_raw_data = pd.read_csv(cwd+'/testing.csv', error_bad_lines=False)\n",
        "positive_raw_data = pd.read_csv(positive_data_path)\n",
        "positive_raw_data[\"label\"] = 1.0\n",
        "\n",
        "#negative_raw_data = pd.read_csv(cwd+'/turkey_052020_tweets_csv_hashed_2020_01.csv', nrows=1000 ,low_memory=False, error_bad_lines=False)\n",
        "negative_raw_data = pd.read_csv(negative_data_path)\n",
        "negative_raw_data[\"label\"] = 0.0"
      ],
      "execution_count": 138,
      "outputs": [
        {
          "output_type": "stream",
          "name": "stderr",
          "text": [
            "/usr/local/lib/python3.7/dist-packages/IPython/core/interactiveshell.py:2718: DtypeWarning: Columns (19) have mixed types.Specify dtype option on import or set low_memory=False.\n",
            "  interactivity=interactivity, compiler=compiler, result=result)\n",
            "/usr/local/lib/python3.7/dist-packages/IPython/core/interactiveshell.py:2718: DtypeWarning: Columns (15) have mixed types.Specify dtype option on import or set low_memory=False.\n",
            "  interactivity=interactivity, compiler=compiler, result=result)\n"
          ]
        }
      ]
    },
    {
      "cell_type": "code",
      "metadata": {
        "colab": {
          "base_uri": "https://localhost:8080/"
        },
        "id": "ymst971pvR59",
        "outputId": "db5ce14d-f580-4e89-806c-9dd0360310ce"
      },
      "source": [
        "positive_raw_data.columns"
      ],
      "execution_count": 139,
      "outputs": [
        {
          "output_type": "execute_result",
          "data": {
            "text/plain": [
              "Index(['tweetid', 'userid', 'user_display_name', 'user_screen_name',\n",
              "       'user_reported_location', 'user_profile_description',\n",
              "       'user_profile_url', 'follower_count', 'following_count',\n",
              "       'account_creation_date', 'account_language', 'tweet_language',\n",
              "       'tweet_text', 'tweet_time', 'tweet_client_name', 'in_reply_to_userid',\n",
              "       'in_reply_to_tweetid', 'quoted_tweet_tweetid', 'is_retweet',\n",
              "       'retweet_userid', 'retweet_tweetid', 'latitude', 'longitude',\n",
              "       'quote_count', 'reply_count', 'like_count', 'retweet_count', 'hashtags',\n",
              "       'urls', 'user_mentions', 'label'],\n",
              "      dtype='object')"
            ]
          },
          "metadata": {},
          "execution_count": 139
        }
      ]
    },
    {
      "cell_type": "code",
      "metadata": {
        "colab": {
          "base_uri": "https://localhost:8080/"
        },
        "id": "yQLVdtccvVkk",
        "outputId": "3ef2b619-9475-41b2-a802-f23b8847556a"
      },
      "source": [
        "positive_raw_data.shape"
      ],
      "execution_count": 140,
      "outputs": [
        {
          "output_type": "execute_result",
          "data": {
            "text/plain": [
              "(35100, 31)"
            ]
          },
          "metadata": {},
          "execution_count": 140
        }
      ]
    },
    {
      "cell_type": "code",
      "metadata": {
        "colab": {
          "base_uri": "https://localhost:8080/"
        },
        "id": "83kdymx27ESK",
        "outputId": "862d4e9f-6ec2-461d-e7e8-662e705caafe"
      },
      "source": [
        "negative_raw_data.shape"
      ],
      "execution_count": 141,
      "outputs": [
        {
          "output_type": "execute_result",
          "data": {
            "text/plain": [
              "(859516, 31)"
            ]
          },
          "metadata": {},
          "execution_count": 141
        }
      ]
    },
    {
      "cell_type": "code",
      "metadata": {
        "id": "wiPLKVwR7u1o"
      },
      "source": [
        "merged_data = pd.concat([positive_raw_data, negative_raw_data], ignore_index=True)\n",
        "merged_data = merged_data.sample(frac=1)"
      ],
      "execution_count": 142,
      "outputs": []
    },
    {
      "cell_type": "code",
      "metadata": {
        "colab": {
          "base_uri": "https://localhost:8080/"
        },
        "id": "nMSalgZU8hto",
        "outputId": "17af086f-79e3-4192-8894-4154d48c1eb8"
      },
      "source": [
        "merged_data.shape"
      ],
      "execution_count": 143,
      "outputs": [
        {
          "output_type": "execute_result",
          "data": {
            "text/plain": [
              "(894616, 31)"
            ]
          },
          "metadata": {},
          "execution_count": 143
        }
      ]
    },
    {
      "cell_type": "markdown",
      "metadata": {
        "id": "RDYmaLu_3Jql"
      },
      "source": [
        "# Pre-process data"
      ]
    },
    {
      "cell_type": "code",
      "metadata": {
        "id": "Bc1QFUvR3NuE"
      },
      "source": [
        "merged_data = merged_data.drop([\n",
        "    'latitude', # always 'absent' in positive dataset\n",
        "    'longitude',\n",
        "    'user_profile_url', # always 'NaN in positive dataset\n",
        "    'in_reply_to_userid',\n",
        "    'in_reply_to_tweetid',\n",
        "    'quoted_tweet_tweetid',\n",
        "    'retweet_userid',\n",
        "    'retweet_tweetid',\n",
        "    'quote_count', # can’t access these without a premium developer account\n",
        "    'reply_count' \n",
        "], axis = 1)"
      ],
      "execution_count": 144,
      "outputs": []
    },
    {
      "cell_type": "code",
      "metadata": {
        "colab": {
          "base_uri": "https://localhost:8080/"
        },
        "id": "6QwHAfcm3Nrq",
        "outputId": "c06cc389-8013-4f52-9165-aa2cc8114fac"
      },
      "source": [
        "merged_data.columns"
      ],
      "execution_count": 145,
      "outputs": [
        {
          "output_type": "execute_result",
          "data": {
            "text/plain": [
              "Index(['tweetid', 'userid', 'user_display_name', 'user_screen_name',\n",
              "       'user_reported_location', 'user_profile_description', 'follower_count',\n",
              "       'following_count', 'account_creation_date', 'account_language',\n",
              "       'tweet_language', 'tweet_text', 'tweet_time', 'tweet_client_name',\n",
              "       'is_retweet', 'like_count', 'retweet_count', 'hashtags', 'urls',\n",
              "       'user_mentions', 'label'],\n",
              "      dtype='object')"
            ]
          },
          "metadata": {},
          "execution_count": 145
        }
      ]
    },
    {
      "cell_type": "code",
      "metadata": {
        "colab": {
          "base_uri": "https://localhost:8080/"
        },
        "id": "y-iuUuLbe943",
        "outputId": "a48b2332-92a4-4f00-c7b6-35d9f1bae874"
      },
      "source": [
        "merged_data.shape"
      ],
      "execution_count": 146,
      "outputs": [
        {
          "output_type": "execute_result",
          "data": {
            "text/plain": [
              "(894616, 21)"
            ]
          },
          "metadata": {},
          "execution_count": 146
        }
      ]
    },
    {
      "cell_type": "code",
      "metadata": {
        "id": "jjjXPe0e3u4m"
      },
      "source": [
        "# remove [,], ', NaN from hashtags, urls, and user_mentions\n",
        "merged_data['hashtags'] = merged_data['hashtags'].str.replace('[','').str.replace(']','').str.replace(\"'\",'').str.lower()\n",
        "merged_data['urls'] = merged_data['urls'].str.replace('[','').str.replace(']','').str.replace(\"'\",'')\n",
        "merged_data['user_mentions'] = merged_data['user_mentions'].str.replace('[','').str.replace(']','').str.replace(\"'\",'')\n",
        "\n",
        "merged_data = merged_data.fillna('')"
      ],
      "execution_count": 147,
      "outputs": []
    },
    {
      "cell_type": "code",
      "metadata": {
        "id": "aaXqQkyZ3d1B"
      },
      "source": [
        "import preprocessor as p\n",
        "import emoji\n",
        "import string\n",
        "\n",
        "# remove emojis  \n",
        "def remove_emoji(text):\n",
        "    return emoji.get_emoji_regexp().sub(u'', text)\n",
        "\n",
        "# remove url, smiley, hashtag, mention and reserved\n",
        "p.set_options(p.OPT.URL, p.OPT.SMILEY, p.OPT.HASHTAG, p.OPT.MENTION, p.OPT.RESERVED)\n",
        "\n",
        "for i in merged_data.index:\n",
        "  text = merged_data.at[i, 'tweet_text']\n",
        "  text = p.clean(str(text))\n",
        "  text = remove_emoji(text)\n",
        "  text = text.lower().replace('[^\\w\\s]',' ').replace('\\s\\s+', ' ').replace('\\r', ' ').replace('\\n', ' ').translate(str.maketrans('', '', string.punctuation));\n",
        "  merged_data.at[i, 'tweet_text'] = text\n",
        "\n",
        "  text = merged_data.at[i, 'user_display_name']\n",
        "  text = p.clean(str(text))\n",
        "  text = remove_emoji(text)\n",
        "  text = text.lower().replace('[^\\w\\s]',' ').replace('\\s\\s+', ' ').replace('\\r', ' ').replace('\\n', ' ').translate(str.maketrans('', '', string.punctuation));\n",
        "  merged_data.at[i, 'user_display_name'] = text\n",
        "\n",
        "  text = merged_data.at[i, 'user_profile_description']\n",
        "  text = p.clean(str(text))\n",
        "  text = remove_emoji(text)\n",
        "  text = text.lower().replace('[^\\w\\s]',' ').replace('\\s\\s+', ' ').replace('\\r', ' ').replace('\\n', ' ').translate(str.maketrans('', '', string.punctuation));\n",
        "  merged_data.at[i, 'user_profile_description'] = text"
      ],
      "execution_count": 148,
      "outputs": []
    },
    {
      "cell_type": "code",
      "metadata": {
        "id": "ghAn45TvdNR7",
        "outputId": "57065923-6a16-4890-c0f7-70787c6ab72d",
        "colab": {
          "base_uri": "https://localhost:8080/"
        }
      },
      "source": [
        "# pd.set_option('display.max_rows', None)\n",
        "# pd.set_option('display.max_columns', None)\n",
        "# pd.set_option('display.width', None)\n",
        "merged_data.tweet_text"
      ],
      "execution_count": 149,
      "outputs": [
        {
          "output_type": "execute_result",
          "data": {
            "text/plain": [
              "846170    bizler ve mahkumlarımız cok zor durumda hele b...\n",
              "545822     i̇tibarınıza şatafatınıza varaklı eşyalarınız...\n",
              "402417     meclisin görevi haksızlığa vurguna talana dur...\n",
              "713903     i̇slahiye’de muhtarlarımızı topladı muhtarlar...\n",
              "93172      esnaf demek türki̇ye demekti̇r… esnaf ile dol...\n",
              "                                ...                        \n",
              "343841                     wi kuzey ege haber  wi başkanı …\n",
              "269815     biz isimsizleriz biz kimsesizlerin kimsesiyiz...\n",
              "791977    dydvh7ebvssqo bana ağırlık ve hazine lazım değ...\n",
              "234798    konkordato alana ceza yok alamayana 5 yil hapi...\n",
              "595153                  rahmet ve saygıyla makamı âli olsun\n",
              "Name: tweet_text, Length: 894616, dtype: object"
            ]
          },
          "metadata": {},
          "execution_count": 149
        }
      ]
    },
    {
      "cell_type": "code",
      "metadata": {
        "colab": {
          "base_uri": "https://localhost:8080/"
        },
        "id": "rIKYqfcDgWvU",
        "outputId": "d0acd7c5-0347-4638-9c88-e8b8d96d2771"
      },
      "source": [
        "merged_data.shape"
      ],
      "execution_count": 150,
      "outputs": [
        {
          "output_type": "execute_result",
          "data": {
            "text/plain": [
              "(894616, 21)"
            ]
          },
          "metadata": {},
          "execution_count": 150
        }
      ]
    },
    {
      "cell_type": "code",
      "metadata": {
        "id": "DWj6z9HjfQDK"
      },
      "source": [
        "today = pd.Timestamp('2021-11-30')\n",
        "merged_data['account_creation_date'] = pd.to_datetime(merged_data.account_creation_date)\n",
        "merged_data['account_age'] = (today - merged_data.account_creation_date).dt.days"
      ],
      "execution_count": 151,
      "outputs": []
    },
    {
      "cell_type": "code",
      "metadata": {
        "id": "h3wkJlwlfP-4",
        "outputId": "f1b0bb1b-cde4-49af-fdf0-c7442567175c",
        "colab": {
          "base_uri": "https://localhost:8080/"
        }
      },
      "source": [
        "merged_data.account_age"
      ],
      "execution_count": 152,
      "outputs": [
        {
          "output_type": "execute_result",
          "data": {
            "text/plain": [
              "846170     983\n",
              "545822     895\n",
              "402417     904\n",
              "713903     895\n",
              "93172      769\n",
              "          ... \n",
              "343841     880\n",
              "269815    2022\n",
              "791977    2471\n",
              "234798    3613\n",
              "595153     847\n",
              "Name: account_age, Length: 894616, dtype: int64"
            ]
          },
          "metadata": {},
          "execution_count": 152
        }
      ]
    },
    {
      "cell_type": "code",
      "metadata": {
        "id": "69LrAGyGjngS"
      },
      "source": [
        "merged_data['is_turkish_tweet'] = merged_data.tweet_language == 'tr'\n",
        "merged_data['is_turkish_account'] = merged_data.account_language == 'tr'\n",
        "merged_data['is_android'] = merged_data.tweet_client_name == 'Twitter for Android'\n",
        "merged_data['is_iphone'] = merged_data.tweet_client_name == 'Twitter for iPhone'\n",
        "merged_data['is_mobile'] = merged_data.is_android & merged_data.is_iphone\n",
        "merged_data['contains_hashtag'] = len(merged_data.hashtags) > 0\n",
        "merged_data['contains_url'] = len(merged_data.urls) > 0"
      ],
      "execution_count": 153,
      "outputs": []
    },
    {
      "cell_type": "code",
      "metadata": {
        "id": "M8adRLedjnc_",
        "outputId": "fddc03a1-1179-4d8a-b461-32cdad022b04",
        "colab": {
          "base_uri": "https://localhost:8080/",
          "height": 904
        }
      },
      "source": [
        "merged_data[:10]"
      ],
      "execution_count": 154,
      "outputs": [
        {
          "output_type": "execute_result",
          "data": {
            "text/html": [
              "<div>\n",
              "<style scoped>\n",
              "    .dataframe tbody tr th:only-of-type {\n",
              "        vertical-align: middle;\n",
              "    }\n",
              "\n",
              "    .dataframe tbody tr th {\n",
              "        vertical-align: top;\n",
              "    }\n",
              "\n",
              "    .dataframe thead th {\n",
              "        text-align: right;\n",
              "    }\n",
              "</style>\n",
              "<table border=\"1\" class=\"dataframe\">\n",
              "  <thead>\n",
              "    <tr style=\"text-align: right;\">\n",
              "      <th></th>\n",
              "      <th>tweetid</th>\n",
              "      <th>userid</th>\n",
              "      <th>user_display_name</th>\n",
              "      <th>user_screen_name</th>\n",
              "      <th>user_reported_location</th>\n",
              "      <th>user_profile_description</th>\n",
              "      <th>follower_count</th>\n",
              "      <th>following_count</th>\n",
              "      <th>account_creation_date</th>\n",
              "      <th>account_language</th>\n",
              "      <th>tweet_language</th>\n",
              "      <th>tweet_text</th>\n",
              "      <th>tweet_time</th>\n",
              "      <th>tweet_client_name</th>\n",
              "      <th>is_retweet</th>\n",
              "      <th>like_count</th>\n",
              "      <th>retweet_count</th>\n",
              "      <th>hashtags</th>\n",
              "      <th>urls</th>\n",
              "      <th>user_mentions</th>\n",
              "      <th>label</th>\n",
              "      <th>account_age</th>\n",
              "      <th>is_turkish_tweet</th>\n",
              "      <th>is_turkish_account</th>\n",
              "      <th>is_android</th>\n",
              "      <th>is_iphone</th>\n",
              "      <th>is_mobile</th>\n",
              "      <th>contains_hashtag</th>\n",
              "      <th>contains_url</th>\n",
              "    </tr>\n",
              "  </thead>\n",
              "  <tbody>\n",
              "    <tr>\n",
              "      <th>846170</th>\n",
              "      <td>1214287856220422144</td>\n",
              "      <td>du9lnDIQ9b1V5VOYxTRBhvN+eQeGs0+TOM993oHMi8=</td>\n",
              "      <td>du9lndiq9b1v5voyxtrbhvneqegs0tom993ohmi8</td>\n",
              "      <td>du9lnDIQ9b1V5VOYxTRBhvN+eQeGs0+TOM993oHMi8=</td>\n",
              "      <td>, bu vatan bizim</td>\n",
              "      <td></td>\n",
              "      <td>488</td>\n",
              "      <td>200</td>\n",
              "      <td>2019-03-23</td>\n",
              "      <td>tr</td>\n",
              "      <td>tr</td>\n",
              "      <td>bizler ve mahkumlarımız cok zor durumda hele b...</td>\n",
              "      <td>2020-01-06 20:49</td>\n",
              "      <td>Twitter Web Client</td>\n",
              "      <td>False</td>\n",
              "      <td>0</td>\n",
              "      <td>0</td>\n",
              "      <td></td>\n",
              "      <td></td>\n",
              "      <td>3147501676</td>\n",
              "      <td>0.0</td>\n",
              "      <td>983</td>\n",
              "      <td>True</td>\n",
              "      <td>True</td>\n",
              "      <td>False</td>\n",
              "      <td>False</td>\n",
              "      <td>False</td>\n",
              "      <td>True</td>\n",
              "      <td>True</td>\n",
              "    </tr>\n",
              "    <tr>\n",
              "      <th>545822</th>\n",
              "      <td>1220788330763255810</td>\n",
              "      <td>pcFZ7NxBN3OgtA067v5AsOHQTuzMIwc98q6sXT5N3lg=</td>\n",
              "      <td>pcfz7nxbn3ogta067v5asohqtuzmiwc98q6sxt5n3lg</td>\n",
              "      <td>pcFZ7NxBN3OgtA067v5AsOHQTuzMIwc98q6sXT5N3lg=</td>\n",
              "      <td>Turkey</td>\n",
              "      <td></td>\n",
              "      <td>2459</td>\n",
              "      <td>761</td>\n",
              "      <td>2019-06-19</td>\n",
              "      <td>en</td>\n",
              "      <td>tr</td>\n",
              "      <td>i̇tibarınıza şatafatınıza varaklı eşyalarınız...</td>\n",
              "      <td>2020-01-24 19:19</td>\n",
              "      <td>Twitter for Android</td>\n",
              "      <td>True</td>\n",
              "      <td>0</td>\n",
              "      <td>0</td>\n",
              "      <td></td>\n",
              "      <td></td>\n",
              "      <td>1036333596448096258</td>\n",
              "      <td>0.0</td>\n",
              "      <td>895</td>\n",
              "      <td>True</td>\n",
              "      <td>False</td>\n",
              "      <td>True</td>\n",
              "      <td>False</td>\n",
              "      <td>False</td>\n",
              "      <td>True</td>\n",
              "      <td>True</td>\n",
              "    </tr>\n",
              "    <tr>\n",
              "      <th>402417</th>\n",
              "      <td>1217874053786152960</td>\n",
              "      <td>cgAoXf5VjXh29IaDKAJMYdYvquzW6rS4MO6tX1HF54=</td>\n",
              "      <td>cgaoxf5vjxh29iadkajmydyvquzw6rs4mo6tx1hf54</td>\n",
              "      <td>cgAoXf5VjXh29IaDKAJMYdYvquzW6rS4MO6tX1HF54=</td>\n",
              "      <td>Türkiye</td>\n",
              "      <td></td>\n",
              "      <td>1967</td>\n",
              "      <td>2005</td>\n",
              "      <td>2019-06-10</td>\n",
              "      <td>en</td>\n",
              "      <td>tr</td>\n",
              "      <td>meclisin görevi haksızlığa vurguna talana dur...</td>\n",
              "      <td>2020-01-16 18:19</td>\n",
              "      <td>Twitter for iPhone</td>\n",
              "      <td>True</td>\n",
              "      <td>0</td>\n",
              "      <td>0</td>\n",
              "      <td></td>\n",
              "      <td></td>\n",
              "      <td>1138719651708514304</td>\n",
              "      <td>0.0</td>\n",
              "      <td>904</td>\n",
              "      <td>True</td>\n",
              "      <td>False</td>\n",
              "      <td>False</td>\n",
              "      <td>True</td>\n",
              "      <td>False</td>\n",
              "      <td>True</td>\n",
              "      <td>True</td>\n",
              "    </tr>\n",
              "    <tr>\n",
              "      <th>713903</th>\n",
              "      <td>1219936815878152193</td>\n",
              "      <td>1141259785133858816</td>\n",
              "      <td>ℂ✯mehmet rei̇s ℂ✯</td>\n",
              "      <td>vali1453</td>\n",
              "      <td></td>\n",
              "      <td>r҉e҉i҉s҉ t҉i҉m҉ g҉r҉u҉p҉l҉a҉r҉i҉ g҉r҉u҉p҉ b҉a҉...</td>\n",
              "      <td>6048</td>\n",
              "      <td>5932</td>\n",
              "      <td>2019-06-19</td>\n",
              "      <td>tr</td>\n",
              "      <td>tr</td>\n",
              "      <td>i̇slahiye’de muhtarlarımızı topladı muhtarlar...</td>\n",
              "      <td>2020-01-22 10:56</td>\n",
              "      <td>Twitter for Android</td>\n",
              "      <td>True</td>\n",
              "      <td>0</td>\n",
              "      <td>0</td>\n",
              "      <td></td>\n",
              "      <td></td>\n",
              "      <td>201218863, 778121595927793665</td>\n",
              "      <td>0.0</td>\n",
              "      <td>895</td>\n",
              "      <td>True</td>\n",
              "      <td>True</td>\n",
              "      <td>True</td>\n",
              "      <td>False</td>\n",
              "      <td>False</td>\n",
              "      <td>True</td>\n",
              "      <td>True</td>\n",
              "    </tr>\n",
              "    <tr>\n",
              "      <th>93172</th>\n",
              "      <td>1213184224607555585</td>\n",
              "      <td>LJNX4QCcUMHEPA12PCayXIzvr6M7rRnrkTV6BtD58n8=</td>\n",
              "      <td>ljnx4qccumhepa12pcayxizvr6m7rrnrktv6btd58n8</td>\n",
              "      <td>LJNX4QCcUMHEPA12PCayXIzvr6M7rRnrkTV6BtD58n8=</td>\n",
              "      <td></td>\n",
              "      <td>eşi ödeyemediği çeklerden dolayı cezaevine gir...</td>\n",
              "      <td>350</td>\n",
              "      <td>642</td>\n",
              "      <td>2019-10-23</td>\n",
              "      <td>en</td>\n",
              "      <td>tr</td>\n",
              "      <td>esnaf demek türki̇ye demekti̇r… esnaf ile dol...</td>\n",
              "      <td>2020-01-03 19:43</td>\n",
              "      <td>Twitter for iPhone</td>\n",
              "      <td>True</td>\n",
              "      <td>0</td>\n",
              "      <td>0</td>\n",
              "      <td></td>\n",
              "      <td></td>\n",
              "      <td>1126909028179816453</td>\n",
              "      <td>0.0</td>\n",
              "      <td>769</td>\n",
              "      <td>True</td>\n",
              "      <td>False</td>\n",
              "      <td>False</td>\n",
              "      <td>True</td>\n",
              "      <td>False</td>\n",
              "      <td>True</td>\n",
              "      <td>True</td>\n",
              "    </tr>\n",
              "    <tr>\n",
              "      <th>470935</th>\n",
              "      <td>1220106358474801153</td>\n",
              "      <td>GZx+ovoBhQr1geozCHIc2M+L2pXdnmXJzkwvce9Zmes=</td>\n",
              "      <td>gzxovobhqr1geozchic2ml2pxdnmxjzkwvce9zmes</td>\n",
              "      <td>GZx+ovoBhQr1geozCHIc2M+L2pXdnmXJzkwvce9Zmes=</td>\n",
              "      <td></td>\n",
              "      <td>recep durak</td>\n",
              "      <td>309</td>\n",
              "      <td>793</td>\n",
              "      <td>2019-10-21</td>\n",
              "      <td>en</td>\n",
              "      <td>tr</td>\n",
              "      <td>ödenemeyen çekler 240 artti ağustos 21978 ad ...</td>\n",
              "      <td>2020-01-22 22:09</td>\n",
              "      <td>Twitter for iPhone</td>\n",
              "      <td>True</td>\n",
              "      <td>0</td>\n",
              "      <td>0</td>\n",
              "      <td></td>\n",
              "      <td></td>\n",
              "      <td>1218986762174980097</td>\n",
              "      <td>0.0</td>\n",
              "      <td>771</td>\n",
              "      <td>True</td>\n",
              "      <td>False</td>\n",
              "      <td>False</td>\n",
              "      <td>True</td>\n",
              "      <td>False</td>\n",
              "      <td>True</td>\n",
              "      <td>True</td>\n",
              "    </tr>\n",
              "    <tr>\n",
              "      <th>261836</th>\n",
              "      <td>1221413947552780288</td>\n",
              "      <td>IG+lkSBHbaVflHrJQIA3C4Sj9bvWD2ACVVc1Jz0v9Zs=</td>\n",
              "      <td>iglksbhbavflhrjqia3c4sj9bvwd2acvvc1jz0v9zs</td>\n",
              "      <td>IG+lkSBHbaVflHrJQIA3C4Sj9bvWD2ACVVc1Jz0v9Zs=</td>\n",
              "      <td></td>\n",
              "      <td>pek anlatılcak bir tarafı yok hayatımın yaşadı...</td>\n",
              "      <td>1256</td>\n",
              "      <td>1771</td>\n",
              "      <td>2018-10-21</td>\n",
              "      <td>tr</td>\n",
              "      <td>tr</td>\n",
              "      <td>68’lik deprem ile içimiz yandı ölülerimiz ve ...</td>\n",
              "      <td>2020-01-26 12:45</td>\n",
              "      <td>Twitter for Android</td>\n",
              "      <td>True</td>\n",
              "      <td>0</td>\n",
              "      <td>0</td>\n",
              "      <td>elaziğ</td>\n",
              "      <td></td>\n",
              "      <td>845184812</td>\n",
              "      <td>0.0</td>\n",
              "      <td>1136</td>\n",
              "      <td>True</td>\n",
              "      <td>True</td>\n",
              "      <td>True</td>\n",
              "      <td>False</td>\n",
              "      <td>False</td>\n",
              "      <td>True</td>\n",
              "      <td>True</td>\n",
              "    </tr>\n",
              "    <tr>\n",
              "      <th>805060</th>\n",
              "      <td>1219721165436063744</td>\n",
              "      <td>BC8akkAe9WGza5aXB2iB5gqtTBvqldZLTg8JNG1VSD0=</td>\n",
              "      <td>bc8akkae9wgza5axb2ib5gqttbvqldzltg8jng1vsd0</td>\n",
              "      <td>BC8akkAe9WGza5aXB2iB5gqtTBvqldZLTg8JNG1VSD0=</td>\n",
              "      <td></td>\n",
              "      <td>gruplarımıza katılmak ister misiniz iletişim</td>\n",
              "      <td>854</td>\n",
              "      <td>709</td>\n",
              "      <td>2018-05-22</td>\n",
              "      <td>tr</td>\n",
              "      <td>tr</td>\n",
              "      <td>dünyanın en güzel ritmi  bir insanın rabbi iç...</td>\n",
              "      <td>2020-01-21 20:39</td>\n",
              "      <td>Twitter for Android</td>\n",
              "      <td>True</td>\n",
              "      <td>0</td>\n",
              "      <td>0</td>\n",
              "      <td></td>\n",
              "      <td></td>\n",
              "      <td>1200107004469170177</td>\n",
              "      <td>0.0</td>\n",
              "      <td>1288</td>\n",
              "      <td>True</td>\n",
              "      <td>True</td>\n",
              "      <td>True</td>\n",
              "      <td>False</td>\n",
              "      <td>False</td>\n",
              "      <td>True</td>\n",
              "      <td>True</td>\n",
              "    </tr>\n",
              "    <tr>\n",
              "      <th>524344</th>\n",
              "      <td>1220453952359227407</td>\n",
              "      <td>3059267103</td>\n",
              "      <td>uin</td>\n",
              "      <td>BaskanTR71</td>\n",
              "      <td>Türkiye</td>\n",
              "      <td>atasını tanımayan it peşinde gezer</td>\n",
              "      <td>9280</td>\n",
              "      <td>3461</td>\n",
              "      <td>2015-02-24</td>\n",
              "      <td>tr</td>\n",
              "      <td>tr</td>\n",
              "      <td>kemalistlerin atatürkü istismar ettiği gibi b...</td>\n",
              "      <td>2020-01-23 21:11</td>\n",
              "      <td>Twitter for Android</td>\n",
              "      <td>True</td>\n",
              "      <td>0</td>\n",
              "      <td>0</td>\n",
              "      <td></td>\n",
              "      <td></td>\n",
              "      <td>1122510174105763841</td>\n",
              "      <td>0.0</td>\n",
              "      <td>2471</td>\n",
              "      <td>True</td>\n",
              "      <td>True</td>\n",
              "      <td>True</td>\n",
              "      <td>False</td>\n",
              "      <td>False</td>\n",
              "      <td>True</td>\n",
              "      <td>True</td>\n",
              "    </tr>\n",
              "    <tr>\n",
              "      <th>475797</th>\n",
              "      <td>1213515097890598915</td>\n",
              "      <td>1141259785133858816</td>\n",
              "      <td>ℂ✯mehmet rei̇s ℂ✯</td>\n",
              "      <td>vali1453</td>\n",
              "      <td></td>\n",
              "      <td>r҉e҉i҉s҉ t҉i҉m҉ g҉r҉u҉p҉l҉a҉r҉i҉ g҉r҉u҉p҉ b҉a҉...</td>\n",
              "      <td>6048</td>\n",
              "      <td>5932</td>\n",
              "      <td>2019-06-19</td>\n",
              "      <td>tr</td>\n",
              "      <td>tr</td>\n",
              "      <td>allahim ben her halimi sana bıraktım sen beni...</td>\n",
              "      <td>2020-01-04 17:38</td>\n",
              "      <td>Twitter for Android</td>\n",
              "      <td>True</td>\n",
              "      <td>0</td>\n",
              "      <td>0</td>\n",
              "      <td></td>\n",
              "      <td></td>\n",
              "      <td>1186365112854159362</td>\n",
              "      <td>0.0</td>\n",
              "      <td>895</td>\n",
              "      <td>True</td>\n",
              "      <td>True</td>\n",
              "      <td>True</td>\n",
              "      <td>False</td>\n",
              "      <td>False</td>\n",
              "      <td>True</td>\n",
              "      <td>True</td>\n",
              "    </tr>\n",
              "  </tbody>\n",
              "</table>\n",
              "</div>"
            ],
            "text/plain": [
              "                    tweetid  ... contains_url\n",
              "846170  1214287856220422144  ...         True\n",
              "545822  1220788330763255810  ...         True\n",
              "402417  1217874053786152960  ...         True\n",
              "713903  1219936815878152193  ...         True\n",
              "93172   1213184224607555585  ...         True\n",
              "470935  1220106358474801153  ...         True\n",
              "261836  1221413947552780288  ...         True\n",
              "805060  1219721165436063744  ...         True\n",
              "524344  1220453952359227407  ...         True\n",
              "475797  1213515097890598915  ...         True\n",
              "\n",
              "[10 rows x 29 columns]"
            ]
          },
          "metadata": {},
          "execution_count": 154
        }
      ]
    },
    {
      "cell_type": "markdown",
      "metadata": {
        "id": "PRwRG3vS34RM"
      },
      "source": [
        "# Split sets"
      ]
    },
    {
      "cell_type": "code",
      "metadata": {
        "id": "1bzIBqyq0cSp"
      },
      "source": [
        "def split_data(data, train=0.98, test=0.01, eval=0.01):\n",
        "  assert train + test + eval == 1.0\n",
        "\n",
        "  num_examples = data.shape[0]\n",
        "  data = data.sample(frac=1)\n",
        "\n",
        "  train_data = data[:int(num_examples * train)]\n",
        "  test_data = data[int(num_examples * train):int(num_examples * (train+test))]\n",
        "  eval_data = data[int(num_examples * (train+test)):]  # sacred data\n",
        "\n",
        "  return (train_data, test_data, eval_data)"
      ],
      "execution_count": 155,
      "outputs": []
    },
    {
      "cell_type": "code",
      "metadata": {
        "id": "neC_tfes8mt1"
      },
      "source": [
        "train_data, test_data, eval_data = split_data(merged_data, train=0.8, test=0.1, eval=0.1)"
      ],
      "execution_count": 156,
      "outputs": []
    },
    {
      "cell_type": "code",
      "metadata": {
        "colab": {
          "base_uri": "https://localhost:8080/"
        },
        "id": "Gn4BTqKwco8e",
        "outputId": "d2058351-1fcf-4fd2-9174-474975538e62"
      },
      "source": [
        "train_data.shape"
      ],
      "execution_count": 157,
      "outputs": [
        {
          "output_type": "execute_result",
          "data": {
            "text/plain": [
              "(715692, 29)"
            ]
          },
          "metadata": {},
          "execution_count": 157
        }
      ]
    },
    {
      "cell_type": "code",
      "metadata": {
        "colab": {
          "base_uri": "https://localhost:8080/"
        },
        "id": "4Vzn_7pBcqwM",
        "outputId": "d8731027-0633-4d33-be47-a873c6b1130f"
      },
      "source": [
        "test_data.shape"
      ],
      "execution_count": 158,
      "outputs": [
        {
          "output_type": "execute_result",
          "data": {
            "text/plain": [
              "(89462, 29)"
            ]
          },
          "metadata": {},
          "execution_count": 158
        }
      ]
    },
    {
      "cell_type": "code",
      "metadata": {
        "colab": {
          "base_uri": "https://localhost:8080/"
        },
        "id": "d0tEFKpL2IsP",
        "outputId": "d7c7f730-1415-414b-ac5e-122bbc6d4a83"
      },
      "source": [
        "eval_data.shape"
      ],
      "execution_count": 159,
      "outputs": [
        {
          "output_type": "execute_result",
          "data": {
            "text/plain": [
              "(89462, 29)"
            ]
          },
          "metadata": {},
          "execution_count": 159
        }
      ]
    },
    {
      "cell_type": "code",
      "metadata": {
        "colab": {
          "base_uri": "https://localhost:8080/"
        },
        "id": "lTE7X3RiCBi2",
        "outputId": "f27151e0-20f9-4e02-ba3d-6ff09e79aa10"
      },
      "source": [
        "train_data.columns  # ground truth columns"
      ],
      "execution_count": 160,
      "outputs": [
        {
          "output_type": "execute_result",
          "data": {
            "text/plain": [
              "Index(['tweetid', 'userid', 'user_display_name', 'user_screen_name',\n",
              "       'user_reported_location', 'user_profile_description', 'follower_count',\n",
              "       'following_count', 'account_creation_date', 'account_language',\n",
              "       'tweet_language', 'tweet_text', 'tweet_time', 'tweet_client_name',\n",
              "       'is_retweet', 'like_count', 'retweet_count', 'hashtags', 'urls',\n",
              "       'user_mentions', 'label', 'account_age', 'is_turkish_tweet',\n",
              "       'is_turkish_account', 'is_android', 'is_iphone', 'is_mobile',\n",
              "       'contains_hashtag', 'contains_url'],\n",
              "      dtype='object')"
            ]
          },
          "metadata": {},
          "execution_count": 160
        }
      ]
    },
    {
      "cell_type": "markdown",
      "metadata": {
        "id": "paBoEKVY4CuY"
      },
      "source": [
        "# Define features"
      ]
    },
    {
      "cell_type": "code",
      "metadata": {
        "id": "k5BKIuQQxTH9"
      },
      "source": [
        "# Feature info\n",
        "float_features_names = [\n",
        "  \"follower_count\",\n",
        "  \"following_count\",\n",
        "  \"like_count\",\n",
        "  \"retweet_count\",\n",
        "  \"account_age\",\n",
        "  \"is_retweet\",  # binary\n",
        "  \"is_mobile\",  # binary\n",
        "  \"is_turkish_tweet\",  # binary\n",
        "  \"is_turkish_account\",  # binary\n",
        "  \"contains_hashtag\",  # binary\n",
        "  \"contains_url\",  # binary\n",
        "]"
      ],
      "execution_count": 166,
      "outputs": []
    },
    {
      "cell_type": "code",
      "metadata": {
        "id": "r2yoKeR6q_sy"
      },
      "source": [
        "# Data pre-processing\n",
        "tokenizer = AutoTokenizer.from_pretrained(model_path)"
      ],
      "execution_count": 167,
      "outputs": []
    },
    {
      "cell_type": "markdown",
      "metadata": {
        "id": "OcEVReFFEyns"
      },
      "source": [
        "# Define model steps"
      ]
    },
    {
      "cell_type": "code",
      "metadata": {
        "id": "xJh49_Sa9GXk"
      },
      "source": [
        "def process_data(batch):\n",
        "  feature_dict = tokenizer(\n",
        "      batch[\"tweet_text\"].tolist(),\n",
        "      padding=True,\n",
        "      truncation=True,\n",
        "      return_tensors=\"pt\",\n",
        "  )\n",
        "\n",
        "  numerical_data = batch[float_features_names].astype(float)\n",
        "  feature_dict[\"float_features\"] = torch.from_numpy(numerical_data.values).float()\n",
        "\n",
        "  labels = batch[\"label\"].astype(float)\n",
        "  feature_dict[\"labels\"] = torch.from_numpy(labels.values).float()\n",
        "\n",
        "  return feature_dict"
      ],
      "execution_count": 168,
      "outputs": []
    },
    {
      "cell_type": "code",
      "metadata": {
        "id": "8Z1i5D2i506F"
      },
      "source": [
        "class BertTweetClassifier(nn.Module):\n",
        "  def __init__(self, bert_size, bert_red_size, numeric_feature_size, red_size, dropout=0.1):\n",
        "    super().__init__()\n",
        "    self.bert_size = bert_size\n",
        "\n",
        "    # Use pre-trained BERT model\n",
        "    self.bert = AutoModel.from_pretrained(\n",
        "        model_path,\n",
        "        output_hidden_states=True,\n",
        "        output_attentions=True,\n",
        "    )\n",
        "\n",
        "    for param in self.bert.parameters():\n",
        "        param.requires_grad = False  # No backprop here for now\n",
        "\n",
        "    self.weights = nn.Parameter(torch.rand(7, 1))\n",
        "    self.dropout = nn.Dropout(dropout)\n",
        "    self.fc1 = nn.Linear(bert_size, bert_red_size)\n",
        "    self.fc2 = nn.Linear(bert_red_size + numeric_feature_size, red_size)\n",
        "    self.fc3 = nn.Linear(red_size, 1)  # binary classfication\n",
        "    self.relu = nn.ReLU()\n",
        "    self.sigmoid = nn.Sigmoid()\n",
        "\n",
        "  def forward(self, feature_dict):\n",
        "    input_ids = feature_dict[\"input_ids\"]\n",
        "    float_features = feature_dict[\"float_features\"]\n",
        "\n",
        "    all_hidden_states, all_attentions = self.bert(input_ids, output_attentions=True, output_hidden_states=True)[-2:]\n",
        "    batch_size = input_ids.shape[0]\n",
        "\n",
        "    ht_cls = torch.cat(all_hidden_states)[:, :1, :].view(7, batch_size, 1, self.bert_size)\n",
        "    atten = torch.sum(ht_cls * self.weights.view(7, 1, 1, 1), dim=[1, 3])\n",
        "\n",
        "    atten = F.softmax(atten.view(-1), dim=0)\n",
        "    feature = torch.sum(ht_cls * atten.view(7, 1, 1, 1), dim=[0, 2])\n",
        "\n",
        "    bert_red_out = self.fc1(self.dropout(feature))\n",
        "    bert_red_activ_out = self.relu(bert_red_out)\n",
        "\n",
        "    concat_layer = torch.cat((bert_red_activ_out, float_features), 1)\n",
        "    concat_out = self.fc2(concat_layer)\n",
        "    concat_activ_out = self.relu(concat_out)\n",
        "\n",
        "    out = self.fc3(concat_activ_out)\n",
        "    prediction = self.sigmoid(out)\n",
        "\n",
        "    return prediction"
      ],
      "execution_count": 169,
      "outputs": []
    },
    {
      "cell_type": "code",
      "metadata": {
        "colab": {
          "base_uri": "https://localhost:8080/"
        },
        "id": "UlCOsVeJzOD5",
        "outputId": "358cb2f8-2832-49f0-d427-cfd87ce4f432"
      },
      "source": [
        "model = BertTweetClassifier(768, 64, len(float_features_names), 32).to(device)"
      ],
      "execution_count": 170,
      "outputs": [
        {
          "output_type": "stream",
          "name": "stderr",
          "text": [
            "Some weights of the model checkpoint at dbmdz/distilbert-base-turkish-cased were not used when initializing DistilBertModel: ['vocab_transform.weight', 'vocab_projector.bias', 'vocab_projector.weight', 'vocab_layer_norm.bias', 'vocab_layer_norm.weight', 'vocab_transform.bias']\n",
            "- This IS expected if you are initializing DistilBertModel from the checkpoint of a model trained on another task or with another architecture (e.g. initializing a BertForSequenceClassification model from a BertForPreTraining model).\n",
            "- This IS NOT expected if you are initializing DistilBertModel from the checkpoint of a model that you expect to be exactly identical (initializing a BertForSequenceClassification model from a BertForSequenceClassification model).\n"
          ]
        }
      ]
    },
    {
      "cell_type": "code",
      "metadata": {
        "colab": {
          "base_uri": "https://localhost:8080/"
        },
        "id": "_wmkZR2w0hZn",
        "outputId": "29efe3e8-2e83-46a9-e521-2168117e99f9"
      },
      "source": [
        "model"
      ],
      "execution_count": 171,
      "outputs": [
        {
          "output_type": "execute_result",
          "data": {
            "text/plain": [
              "BertTweetClassifier(\n",
              "  (bert): DistilBertModel(\n",
              "    (embeddings): Embeddings(\n",
              "      (word_embeddings): Embedding(32000, 768, padding_idx=0)\n",
              "      (position_embeddings): Embedding(512, 768)\n",
              "      (LayerNorm): LayerNorm((768,), eps=1e-12, elementwise_affine=True)\n",
              "      (dropout): Dropout(p=0.1, inplace=False)\n",
              "    )\n",
              "    (transformer): Transformer(\n",
              "      (layer): ModuleList(\n",
              "        (0): TransformerBlock(\n",
              "          (attention): MultiHeadSelfAttention(\n",
              "            (dropout): Dropout(p=0.1, inplace=False)\n",
              "            (q_lin): Linear(in_features=768, out_features=768, bias=True)\n",
              "            (k_lin): Linear(in_features=768, out_features=768, bias=True)\n",
              "            (v_lin): Linear(in_features=768, out_features=768, bias=True)\n",
              "            (out_lin): Linear(in_features=768, out_features=768, bias=True)\n",
              "          )\n",
              "          (sa_layer_norm): LayerNorm((768,), eps=1e-12, elementwise_affine=True)\n",
              "          (ffn): FFN(\n",
              "            (dropout): Dropout(p=0.1, inplace=False)\n",
              "            (lin1): Linear(in_features=768, out_features=3072, bias=True)\n",
              "            (lin2): Linear(in_features=3072, out_features=768, bias=True)\n",
              "          )\n",
              "          (output_layer_norm): LayerNorm((768,), eps=1e-12, elementwise_affine=True)\n",
              "        )\n",
              "        (1): TransformerBlock(\n",
              "          (attention): MultiHeadSelfAttention(\n",
              "            (dropout): Dropout(p=0.1, inplace=False)\n",
              "            (q_lin): Linear(in_features=768, out_features=768, bias=True)\n",
              "            (k_lin): Linear(in_features=768, out_features=768, bias=True)\n",
              "            (v_lin): Linear(in_features=768, out_features=768, bias=True)\n",
              "            (out_lin): Linear(in_features=768, out_features=768, bias=True)\n",
              "          )\n",
              "          (sa_layer_norm): LayerNorm((768,), eps=1e-12, elementwise_affine=True)\n",
              "          (ffn): FFN(\n",
              "            (dropout): Dropout(p=0.1, inplace=False)\n",
              "            (lin1): Linear(in_features=768, out_features=3072, bias=True)\n",
              "            (lin2): Linear(in_features=3072, out_features=768, bias=True)\n",
              "          )\n",
              "          (output_layer_norm): LayerNorm((768,), eps=1e-12, elementwise_affine=True)\n",
              "        )\n",
              "        (2): TransformerBlock(\n",
              "          (attention): MultiHeadSelfAttention(\n",
              "            (dropout): Dropout(p=0.1, inplace=False)\n",
              "            (q_lin): Linear(in_features=768, out_features=768, bias=True)\n",
              "            (k_lin): Linear(in_features=768, out_features=768, bias=True)\n",
              "            (v_lin): Linear(in_features=768, out_features=768, bias=True)\n",
              "            (out_lin): Linear(in_features=768, out_features=768, bias=True)\n",
              "          )\n",
              "          (sa_layer_norm): LayerNorm((768,), eps=1e-12, elementwise_affine=True)\n",
              "          (ffn): FFN(\n",
              "            (dropout): Dropout(p=0.1, inplace=False)\n",
              "            (lin1): Linear(in_features=768, out_features=3072, bias=True)\n",
              "            (lin2): Linear(in_features=3072, out_features=768, bias=True)\n",
              "          )\n",
              "          (output_layer_norm): LayerNorm((768,), eps=1e-12, elementwise_affine=True)\n",
              "        )\n",
              "        (3): TransformerBlock(\n",
              "          (attention): MultiHeadSelfAttention(\n",
              "            (dropout): Dropout(p=0.1, inplace=False)\n",
              "            (q_lin): Linear(in_features=768, out_features=768, bias=True)\n",
              "            (k_lin): Linear(in_features=768, out_features=768, bias=True)\n",
              "            (v_lin): Linear(in_features=768, out_features=768, bias=True)\n",
              "            (out_lin): Linear(in_features=768, out_features=768, bias=True)\n",
              "          )\n",
              "          (sa_layer_norm): LayerNorm((768,), eps=1e-12, elementwise_affine=True)\n",
              "          (ffn): FFN(\n",
              "            (dropout): Dropout(p=0.1, inplace=False)\n",
              "            (lin1): Linear(in_features=768, out_features=3072, bias=True)\n",
              "            (lin2): Linear(in_features=3072, out_features=768, bias=True)\n",
              "          )\n",
              "          (output_layer_norm): LayerNorm((768,), eps=1e-12, elementwise_affine=True)\n",
              "        )\n",
              "        (4): TransformerBlock(\n",
              "          (attention): MultiHeadSelfAttention(\n",
              "            (dropout): Dropout(p=0.1, inplace=False)\n",
              "            (q_lin): Linear(in_features=768, out_features=768, bias=True)\n",
              "            (k_lin): Linear(in_features=768, out_features=768, bias=True)\n",
              "            (v_lin): Linear(in_features=768, out_features=768, bias=True)\n",
              "            (out_lin): Linear(in_features=768, out_features=768, bias=True)\n",
              "          )\n",
              "          (sa_layer_norm): LayerNorm((768,), eps=1e-12, elementwise_affine=True)\n",
              "          (ffn): FFN(\n",
              "            (dropout): Dropout(p=0.1, inplace=False)\n",
              "            (lin1): Linear(in_features=768, out_features=3072, bias=True)\n",
              "            (lin2): Linear(in_features=3072, out_features=768, bias=True)\n",
              "          )\n",
              "          (output_layer_norm): LayerNorm((768,), eps=1e-12, elementwise_affine=True)\n",
              "        )\n",
              "        (5): TransformerBlock(\n",
              "          (attention): MultiHeadSelfAttention(\n",
              "            (dropout): Dropout(p=0.1, inplace=False)\n",
              "            (q_lin): Linear(in_features=768, out_features=768, bias=True)\n",
              "            (k_lin): Linear(in_features=768, out_features=768, bias=True)\n",
              "            (v_lin): Linear(in_features=768, out_features=768, bias=True)\n",
              "            (out_lin): Linear(in_features=768, out_features=768, bias=True)\n",
              "          )\n",
              "          (sa_layer_norm): LayerNorm((768,), eps=1e-12, elementwise_affine=True)\n",
              "          (ffn): FFN(\n",
              "            (dropout): Dropout(p=0.1, inplace=False)\n",
              "            (lin1): Linear(in_features=768, out_features=3072, bias=True)\n",
              "            (lin2): Linear(in_features=3072, out_features=768, bias=True)\n",
              "          )\n",
              "          (output_layer_norm): LayerNorm((768,), eps=1e-12, elementwise_affine=True)\n",
              "        )\n",
              "      )\n",
              "    )\n",
              "  )\n",
              "  (dropout): Dropout(p=0.1, inplace=False)\n",
              "  (fc1): Linear(in_features=768, out_features=64, bias=True)\n",
              "  (fc2): Linear(in_features=75, out_features=32, bias=True)\n",
              "  (fc3): Linear(in_features=32, out_features=1, bias=True)\n",
              "  (relu): ReLU()\n",
              "  (sigmoid): Sigmoid()\n",
              ")"
            ]
          },
          "metadata": {},
          "execution_count": 171
        }
      ]
    },
    {
      "cell_type": "markdown",
      "metadata": {
        "id": "O28KzuuzE4xm"
      },
      "source": [
        "# Train model"
      ]
    },
    {
      "cell_type": "code",
      "metadata": {
        "colab": {
          "base_uri": "https://localhost:8080/"
        },
        "id": "e3NHu75mM3B0",
        "outputId": "19f10d44-050c-4dac-c19a-2c0dc11ebd72"
      },
      "source": [
        "import time\n",
        "import gc\n",
        "gc.collect()"
      ],
      "execution_count": 172,
      "outputs": [
        {
          "output_type": "execute_result",
          "data": {
            "text/plain": [
              "2288"
            ]
          },
          "metadata": {},
          "execution_count": 172
        }
      ]
    },
    {
      "cell_type": "code",
      "metadata": {
        "id": "_0y6-sa4FChp"
      },
      "source": [
        "def report_eval_metrics(model, test_data, step=0.01, batch_size=256):\n",
        "  counts = {}\n",
        "  metrics = {}\n",
        "  num_examples = test_data.shape[0]\n",
        "\n",
        "  torch.cuda.empty_cache()\n",
        "  model.zero_grad()\n",
        "\n",
        "  for threshold in np.arange(0.0, 1.0 + step, step):\n",
        "    counts[threshold] = np.zeros(4)  # TP, TN, FP, FN in that order\n",
        "    metrics[threshold] = np.zeros(5)  # accuracy, precision, recall, specificity, f1_score\n",
        "\n",
        "  with torch.no_grad():\n",
        "    for batch_start_index in range(0, num_examples, batch_size):\n",
        "      batch_num = int(batch_start_index / batch_size)\n",
        "      if batch_num % 25 == 0:\n",
        "        print(f\"Batch {batch_num} started\")\n",
        "\n",
        "      batch_data = test_data[batch_num : min(batch_num + batch_size, num_examples)]\n",
        "\n",
        "      feature_dict = process_data(batch_data).to(device)\n",
        "      predictions = np.squeeze(model(feature_dict))\n",
        "      labels = feature_dict[\"labels\"]\n",
        "\n",
        "      for threshold in np.arange(0.0, 1.0 + step, step):\n",
        "        binary_predictions = (predictions > threshold).float()\n",
        "        \n",
        "        counts[threshold][0] += torch.bitwise_and(binary_predictions == 1.0, labels == 1.0).sum()\n",
        "        counts[threshold][1] += torch.bitwise_and(binary_predictions == 0.0, labels == 0.0).sum()\n",
        "        counts[threshold][2] += torch.bitwise_and(binary_predictions == 1.0, labels == 0.0).sum()\n",
        "        counts[threshold][3] += torch.bitwise_and(binary_predictions == 0.0, labels == 1.0).sum()\n",
        "\n",
        "      del predictions\n",
        "      torch.cuda.empty_cache()\n",
        "\n",
        "  for threshold in np.arange(0.0, 1.0 + step, step):\n",
        "    metrics[threshold][0] = ((counts[threshold][0] + counts[threshold][1]) / num_examples).item()\n",
        "    metrics[threshold][1] = (counts[threshold][0] / (counts[threshold][0] + counts[threshold][2])).item()\n",
        "    metrics[threshold][2] = (counts[threshold][0] / (counts[threshold][0] + counts[threshold][3])).item()\n",
        "    metrics[threshold][3] = (counts[threshold][1] / (counts[threshold][2] + counts[threshold][1])).item() \n",
        "    metrics[threshold][4] = ((2*counts[threshold][0]) / (2*counts[threshold][0] + counts[threshold][2] + counts[threshold][3])).item()\n",
        "\n",
        "  return metrics"
      ],
      "execution_count": 180,
      "outputs": []
    },
    {
      "cell_type": "code",
      "metadata": {
        "colab": {
          "base_uri": "https://localhost:8080/"
        },
        "id": "HRNm3Cd6Fezz",
        "outputId": "e3f1ed4d-9427-412d-b1f3-9e3f3bb26093"
      },
      "source": [
        "pre_training_metrics = report_eval_metrics(model, test_data, step=0.01)"
      ],
      "execution_count": 183,
      "outputs": [
        {
          "output_type": "stream",
          "name": "stdout",
          "text": [
            "Batch 0 started\n",
            "Batch 25 started\n",
            "Batch 50 started\n",
            "Batch 75 started\n",
            "Batch 100 started\n",
            "Batch 125 started\n",
            "Batch 150 started\n",
            "Batch 175 started\n",
            "Batch 200 started\n",
            "Batch 225 started\n",
            "Batch 250 started\n",
            "Batch 275 started\n",
            "Batch 300 started\n",
            "Batch 325 started\n"
          ]
        },
        {
          "output_type": "stream",
          "name": "stderr",
          "text": [
            "/usr/local/lib/python3.7/dist-packages/ipykernel_launcher.py:38: RuntimeWarning: invalid value encountered in double_scalars\n"
          ]
        }
      ]
    },
    {
      "cell_type": "code",
      "metadata": {
        "id": "MXhI1zd_jQQR",
        "outputId": "83042d81-df55-4499-df9a-9c75a67e06fe",
        "colab": {
          "base_uri": "https://localhost:8080/"
        }
      },
      "source": [
        "pre_training_metrics"
      ],
      "execution_count": 186,
      "outputs": [
        {
          "output_type": "execute_result",
          "data": {
            "text/plain": [
              "{0.0: array([0.04047529, 0.04041295, 1.        , 0.        , 0.07768636]),\n",
              " 0.01: array([0.08462811, 0.04227671, 1.        , 0.04594145, 0.08112377]),\n",
              " 0.02: array([0.0949677 , 0.04273827, 1.        , 0.05669989, 0.08197315]),\n",
              " 0.03: array([0.09665556, 0.04281458, 1.        , 0.05845613, 0.0821135 ]),\n",
              " 0.04: array([0.09801927, 0.04287643, 1.        , 0.05987509, 0.08222724]),\n",
              " 0.05: array([0.09801927, 0.04287643, 1.        , 0.05987509, 0.08222724]),\n",
              " 0.06: array([0.09849992, 0.04289827, 1.        , 0.06037521, 0.08226741]),\n",
              " 0.07: array([0.09994187, 0.04296393, 1.        , 0.06187557, 0.08238814]),\n",
              " 0.08: array([0.100892  , 0.0430073 , 1.        , 0.06286419, 0.08246789]),\n",
              " 0.09: array([0.10114909, 0.04301906, 1.        , 0.06313169, 0.08248949]),\n",
              " 0.1: array([0.10812412, 0.04334036, 1.        , 0.07038928, 0.08307999]),\n",
              " 0.11: array([0.10872773, 0.04336839, 1.        , 0.07101734, 0.08313149]),\n",
              " 0.12: array([0.11480852, 0.0436528 , 1.        , 0.07734447, 0.08365388]),\n",
              " 0.13: array([0.11618341, 0.04371763, 1.        , 0.07877505, 0.0837729 ]),\n",
              " 0.14: array([0.1177595 , 0.04379218, 1.        , 0.08041499, 0.08390976]),\n",
              " 0.15: array([0.11779303, 0.04379377, 1.        , 0.08044988, 0.08391268]),\n",
              " 0.16: array([0.11798305, 0.04380277, 1.        , 0.0806476 , 0.08392921]),\n",
              " 0.17: array([0.12441036, 0.04410959, 1.        , 0.08733528, 0.08449225]),\n",
              " 0.18: array([0.12448861, 0.04411335, 1.        , 0.08741669, 0.08449915]),\n",
              " 0.19: array([0.12727191, 0.04424757, 1.        , 0.09031275, 0.08474537]),\n",
              " 0.2: array([0.12727191, 0.04424757, 1.        , 0.09031275, 0.08474537]),\n",
              " 0.21: array([0.12727191, 0.04424757, 1.        , 0.09031275, 0.08474537]),\n",
              " 0.22: array([0.12746194, 0.04425677, 1.        , 0.09051047, 0.08476223]),\n",
              " 0.23: array([0.14176969, 0.04496014, 1.        , 0.10539783, 0.0860514 ]),\n",
              " 0.24: array([0.14324518, 0.04503395, 1.        , 0.10693309, 0.08618658]),\n",
              " 0.25: array([0.146878  , 0.04521672, 1.        , 0.11071308, 0.08652123]),\n",
              " 0.26: array([0.14919184, 0.0453339 , 1.        , 0.11312065, 0.08673573]),\n",
              " 0.27: array([0.14919184, 0.0453339 , 1.        , 0.11312065, 0.08673573]),\n",
              " 0.28: array([0.14919184, 0.0453339 , 1.        , 0.11312065, 0.08673573]),\n",
              " 0.29: array([0.14919184, 0.0453339 , 1.        , 0.11312065, 0.08673573]),\n",
              " 0.3: array([0.14919184, 0.0453339 , 1.        , 0.11312065, 0.08673573]),\n",
              " 0.31: array([0.15635689, 0.04570066, 1.        , 0.12057595, 0.08740676]),\n",
              " 0.32: array([0.158123  , 0.04579197, 1.        , 0.12241361, 0.08757376]),\n",
              " 0.33: array([0.158123  , 0.04579197, 1.        , 0.12241361, 0.08757376]),\n",
              " 0.34: array([0.158123  , 0.04579197, 1.        , 0.12241361, 0.08757376]),\n",
              " 0.35000000000000003: array([0.158123  , 0.04579197, 1.        , 0.12241361, 0.08757376]),\n",
              " 0.36: array([0.158123  , 0.04579197, 1.        , 0.12241361, 0.08757376]),\n",
              " 0.37: array([0.16120811, 0.04595236, 1.        , 0.1256237 , 0.08786702]),\n",
              " 0.38: array([0.16201292, 0.04599439, 1.        , 0.12646111, 0.08794385]),\n",
              " 0.39: array([0.16201292, 0.04599439, 1.        , 0.12646111, 0.08794385]),\n",
              " 0.4: array([0.16548926, 0.0461768 , 1.        , 0.13007827, 0.08827724]),\n",
              " 0.41000000000000003: array([0.166227  , 0.0462157 , 1.        , 0.1308459 , 0.08834832]),\n",
              " 0.42: array([0.166227  , 0.0462157 , 1.        , 0.1308459 , 0.08834832]),\n",
              " 0.43: array([0.166227  , 0.0462157 , 1.        , 0.1308459 , 0.08834832]),\n",
              " 0.44: array([0.166227  , 0.0462157 , 1.        , 0.1308459 , 0.08834832]),\n",
              " 0.45: array([0.16780309, 0.04629902, 1.        , 0.13248584, 0.08850055]),\n",
              " 0.46: array([0.16908855, 0.0463672 , 1.        , 0.13382338, 0.0886251 ]),\n",
              " 0.47000000000000003: array([0.16908855, 0.0463672 , 1.        , 0.13382338, 0.0886251 ]),\n",
              " 0.48: array([0.16908855, 0.0463672 , 1.        , 0.13382338, 0.0886251 ]),\n",
              " 0.49: array([0.16908855, 0.0463672 , 1.        , 0.13382338, 0.0886251 ]),\n",
              " 0.5: array([0.17140238, 0.04649043, 1.        , 0.13623094, 0.08885017]),\n",
              " 0.51: array([0.17313496, 0.04658313, 1.        , 0.13803371, 0.08901946]),\n",
              " 0.52: array([0.17388388, 0.04662332, 1.        , 0.13881297, 0.08909283]),\n",
              " 0.53: array([0.1741298 , 0.04663653, 1.        , 0.13906884, 0.08911695]),\n",
              " 0.54: array([0.1741298 , 0.04663653, 1.        , 0.13906884, 0.08911695]),\n",
              " 0.55: array([0.1741298 , 0.04663653, 1.        , 0.13906884, 0.08911695]),\n",
              " 0.56: array([0.1741298 , 0.04663653, 1.        , 0.13906884, 0.08911695]),\n",
              " 0.5700000000000001: array([0.1741298 , 0.04663653, 1.        , 0.13906884, 0.08911695]),\n",
              " 0.58: array([0.17497932, 0.04668222, 1.        , 0.13995278, 0.08920037]),\n",
              " 0.59: array([0.18125014, 0.04702231, 1.        , 0.14647763, 0.08982103]),\n",
              " 0.6: array([0.18259149, 0.0470957 , 1.        , 0.14787332, 0.08995491]),\n",
              " 0.61: array([0.18755449, 0.04736925, 1.        , 0.15303737, 0.09045377]),\n",
              " 0.62: array([0.18862757, 0.04742881, 1.        , 0.15415392, 0.09056236]),\n",
              " 0.63: array([0.19641859, 0.0478658 , 1.        , 0.16226055, 0.09135865]),\n",
              " 0.64: array([0.19852004, 0.04798505, 1.        , 0.16444713, 0.09157583]),\n",
              " 0.65: array([0.19991728, 0.04806467, 1.        , 0.16590098, 0.09172081]),\n",
              " 0.66: array([0.20394134, 0.04829545, 1.        , 0.17008804, 0.09214092]),\n",
              " 0.67: array([0.20394134, 0.04829545, 1.        , 0.17008804, 0.09214092]),\n",
              " 0.68: array([0.20394134, 0.04829545, 1.        , 0.17008804, 0.09214092]),\n",
              " 0.6900000000000001: array([0.21053632, 0.04867851, 1.        , 0.17695019, 0.09283782]),\n",
              " 0.7000000000000001: array([0.21075988, 0.04869161, 1.        , 0.1771828 , 0.09286163]),\n",
              " 0.71: array([0.21075988, 0.04869161, 1.        , 0.1771828 , 0.09286163]),\n",
              " 0.72: array([0.21075988, 0.04869161, 1.        , 0.1771828 , 0.09286163]),\n",
              " 0.73: array([0.21075988, 0.04869161, 1.        , 0.1771828 , 0.09286163]),\n",
              " 0.74: array([0.21304017, 0.04882554, 1.        , 0.17955547, 0.09310518]),\n",
              " 0.75: array([0.21767901, 0.0491003 , 1.        , 0.18438223, 0.09360459]),\n",
              " 0.76: array([0.21869621, 0.04916096, 1.        , 0.18544063, 0.09371482]),\n",
              " 0.77: array([0.2193557 , 0.04920038, 1.        , 0.18612684, 0.09378642]),\n",
              " 0.78: array([0.22825334, 0.04973833, 1.        , 0.19538492, 0.09476329]),\n",
              " 0.79: array([0.22825334, 0.04973833, 1.        , 0.19538492, 0.09476329]),\n",
              " 0.8: array([0.22825334, 0.04973833, 1.        , 0.19538492, 0.09476329]),\n",
              " 0.81: array([0.22885694, 0.04977525, 1.        , 0.19601298, 0.0948303 ]),\n",
              " 0.8200000000000001: array([0.23014241, 0.04985406, 1.        , 0.19735052, 0.09497331]),\n",
              " 0.8300000000000001: array([0.2302989 , 0.04986367, 1.        , 0.19751335, 0.09499075]),\n",
              " 0.84: array([0.23148376, 0.04993656, 1.        , 0.19874621, 0.09512301]),\n",
              " 0.85: array([0.23165143, 0.04994689, 1.        , 0.19892067, 0.09514175]),\n",
              " 0.86: array([0.23693859, 0.05027491, 1.        , 0.20442201, 0.09573666]),\n",
              " 0.87: array([0.24051553, 0.05049927, 1.        , 0.20814385, 0.09614338]),\n",
              " 0.88: array([0.24051553, 0.05049927, 1.        , 0.20814385, 0.09614338]),\n",
              " 0.89: array([0.24070555, 0.05051125, 1.        , 0.20834157, 0.09616508]),\n",
              " 0.9: array([0.25057566, 0.05114118, 1.        , 0.21861152, 0.09730601]),\n",
              " 0.91: array([0.25171581, 0.05121496, 1.        , 0.21979786, 0.09743955]),\n",
              " 0.92: array([0.2572936 , 0.05157899, 1.        , 0.2256016 , 0.09809818]),\n",
              " 0.93: array([0.26080347, 0.05181073, 1.        , 0.22925365, 0.09851721]),\n",
              " 0.9400000000000001: array([0.2686392 , 0.05233567, 1.        , 0.23740681, 0.09946573]),\n",
              " 0.9500000000000001: array([0.27413874, 0.05271049, 1.        , 0.24312914, 0.10014243]),\n",
              " 0.96: array([0.27944826, 0.0530775 , 1.        , 0.24865374, 0.10080454]),\n",
              " 0.97: array([0.28875947, 0.0537336 , 1.        , 0.25834215, 0.10198707]),\n",
              " 0.98: array([0.32260625, 0.05626165, 1.        , 0.29356006, 0.10652977]),\n",
              " 0.99: array([0.39380966, 0.0624418 , 1.        , 0.36764791, 0.11754395]),\n",
              " 1.0: array([0.96106727,        nan, 0.        , 1.        , 0.        ])}"
            ]
          },
          "metadata": {},
          "execution_count": 186
        }
      ]
    },
    {
      "cell_type": "code",
      "metadata": {
        "id": "TV_7QGCKz-xZ",
        "outputId": "0e5c34a4-1b6d-496b-82ef-917fc9db532f",
        "colab": {
          "base_uri": "https://localhost:8080/"
        }
      },
      "source": [
        "model.fc1.weight"
      ],
      "execution_count": 199,
      "outputs": [
        {
          "output_type": "execute_result",
          "data": {
            "text/plain": [
              "Parameter containing:\n",
              "tensor([[-0.0160, -0.0060,  0.0009,  ..., -0.0294,  0.0193,  0.0085],\n",
              "        [ 0.0169, -0.0224,  0.0194,  ...,  0.0046,  0.0070, -0.0186],\n",
              "        [ 0.0216, -0.0330, -0.0259,  ..., -0.0335, -0.0104, -0.0100],\n",
              "        ...,\n",
              "        [ 0.0021,  0.0123, -0.0095,  ...,  0.0023, -0.0052, -0.0254],\n",
              "        [ 0.0285,  0.0117,  0.0054,  ...,  0.0232,  0.0092,  0.0262],\n",
              "        [ 0.0028, -0.0004,  0.0136,  ..., -0.0100,  0.0065,  0.0059]],\n",
              "       device='cuda:0', requires_grad=True)"
            ]
          },
          "metadata": {},
          "execution_count": 199
        }
      ]
    },
    {
      "cell_type": "code",
      "metadata": {
        "colab": {
          "base_uri": "https://localhost:8080/",
          "height": 944
        },
        "id": "fgXb9qgm0bmc",
        "outputId": "98004987-34ac-41df-cefc-3812390b629a"
      },
      "source": [
        "batch_size = 64\n",
        "learning_rate = 1e-5\n",
        "num_epochs = 3\n",
        "num_examples = train_data.shape[0]\n",
        "criterion = nn.BCELoss()\n",
        "\n",
        "torch.cuda.empty_cache()\n",
        "model.zero_grad()\n",
        "optimizer = torch.optim.Adam(model.parameters(), lr=learning_rate)\n",
        "\n",
        "batch_count = math.ceil(num_examples / batch_size)\n",
        "\n",
        "for epoch_num in range(num_epochs):\n",
        "  print(f\"Epoch {epoch_num} started\")\n",
        "  train_data = train_data.sample(frac=1)  # Shuffle the batches each epoch\n",
        "  total_epoch_loss = 0\n",
        "\n",
        "  ### 0.4 seconds total per loop ###\n",
        "  for batch_start_index in range(0, num_examples, batch_size):\n",
        "    model.zero_grad()\n",
        "\n",
        "    batch_num = int(batch_start_index / batch_size)\n",
        "    if batch_num % 250 == 0:\n",
        "      print(f\"Train batch {batch_num} started\")\n",
        "\n",
        "    batch_data = train_data[batch_num : min(batch_num + batch_size, num_examples)]\n",
        "\n",
        "    feature_dict = process_data(batch_data).to(device)\n",
        "    predictions = np.squeeze(model(feature_dict))  ## TODO: Speed up\n",
        "    labels = feature_dict[\"labels\"]\n",
        "\n",
        "    loss = criterion(predictions, labels)\n",
        "    total_epoch_loss += loss.item()\n",
        "\n",
        "    loss.backward()\n",
        "    optimizer.step()\n",
        "\n",
        "    ### 0.1 seconds start ###\n",
        "    del predictions\n",
        "    torch.cuda.empty_cache()\n",
        "    ### 0.1 seconds end ###\n",
        "\n",
        "  print(f\"Epoch {epoch_num} finished\")\n",
        "  print(\"Average batch loss: \" + str(total_epoch_loss / batch_count))"
      ],
      "execution_count": 200,
      "outputs": [
        {
          "output_type": "stream",
          "name": "stdout",
          "text": [
            "Epoch 0 started\n",
            "Train batch 0 started\n",
            "Train batch 250 started\n",
            "Train batch 500 started\n",
            "Train batch 750 started\n",
            "Train batch 1000 started\n",
            "Train batch 1250 started\n",
            "Train batch 1500 started\n",
            "Train batch 1750 started\n",
            "Train batch 2000 started\n",
            "Train batch 2250 started\n",
            "Train batch 2500 started\n",
            "Train batch 2750 started\n",
            "Train batch 3000 started\n",
            "Train batch 3250 started\n",
            "Train batch 3500 started\n",
            "Train batch 3750 started\n",
            "Train batch 4000 started\n",
            "Train batch 4250 started\n",
            "Train batch 4500 started\n",
            "Train batch 4750 started\n",
            "Train batch 5000 started\n",
            "Train batch 5250 started\n",
            "Train batch 5500 started\n",
            "Train batch 5750 started\n",
            "Train batch 6000 started\n",
            "Train batch 6250 started\n",
            "Train batch 6500 started\n",
            "Train batch 6750 started\n",
            "Train batch 7000 started\n",
            "Train batch 7250 started\n",
            "Train batch 7500 started\n",
            "Train batch 7750 started\n",
            "Train batch 8000 started\n",
            "Train batch 8250 started\n",
            "Train batch 8500 started\n",
            "Train batch 8750 started\n"
          ]
        },
        {
          "output_type": "error",
          "ename": "KeyboardInterrupt",
          "evalue": "ignored",
          "traceback": [
            "\u001b[0;31m---------------------------------------------------------------------------\u001b[0m",
            "\u001b[0;31mKeyboardInterrupt\u001b[0m                         Traceback (most recent call last)",
            "\u001b[0;32m<ipython-input-200-08bf07467859>\u001b[0m in \u001b[0;36m<module>\u001b[0;34m()\u001b[0m\n\u001b[1;32m     31\u001b[0m \u001b[0;34m\u001b[0m\u001b[0m\n\u001b[1;32m     32\u001b[0m     \u001b[0mloss\u001b[0m \u001b[0;34m=\u001b[0m \u001b[0mcriterion\u001b[0m\u001b[0;34m(\u001b[0m\u001b[0mpredictions\u001b[0m\u001b[0;34m,\u001b[0m \u001b[0mlabels\u001b[0m\u001b[0;34m)\u001b[0m\u001b[0;34m\u001b[0m\u001b[0;34m\u001b[0m\u001b[0m\n\u001b[0;32m---> 33\u001b[0;31m     \u001b[0mtotal_epoch_loss\u001b[0m \u001b[0;34m+=\u001b[0m \u001b[0mloss\u001b[0m\u001b[0;34m.\u001b[0m\u001b[0mitem\u001b[0m\u001b[0;34m(\u001b[0m\u001b[0;34m)\u001b[0m\u001b[0;34m\u001b[0m\u001b[0;34m\u001b[0m\u001b[0m\n\u001b[0m\u001b[1;32m     34\u001b[0m \u001b[0;34m\u001b[0m\u001b[0m\n\u001b[1;32m     35\u001b[0m     \u001b[0mloss\u001b[0m\u001b[0;34m.\u001b[0m\u001b[0mbackward\u001b[0m\u001b[0;34m(\u001b[0m\u001b[0;34m)\u001b[0m\u001b[0;34m\u001b[0m\u001b[0;34m\u001b[0m\u001b[0m\n",
            "\u001b[0;31mKeyboardInterrupt\u001b[0m: "
          ]
        }
      ]
    },
    {
      "cell_type": "code",
      "metadata": {
        "id": "nBnUsmaV0VFS",
        "outputId": "b40cd8e2-5b45-4ad5-d35a-af8176e8e258",
        "colab": {
          "base_uri": "https://localhost:8080/"
        }
      },
      "source": [
        "model.fc1.weight"
      ],
      "execution_count": 201,
      "outputs": [
        {
          "output_type": "execute_result",
          "data": {
            "text/plain": [
              "Parameter containing:\n",
              "tensor([[-0.0442,  0.0485,  0.0601,  ..., -0.0775,  0.0769, -0.0393],\n",
              "        [ 0.0211, -0.0274,  0.0136,  ...,  0.0097,  0.0018, -0.0133],\n",
              "        [ 0.0003,  0.0190,  0.0316,  ..., -0.0792,  0.0456, -0.0556],\n",
              "        ...,\n",
              "        [ 0.0044,  0.0090, -0.0134,  ...,  0.0054, -0.0088, -0.0224],\n",
              "        [-0.0001,  0.0661,  0.0640,  ..., -0.0238,  0.0662, -0.0204],\n",
              "        [-0.0213,  0.0489,  0.0668,  ..., -0.0523,  0.0582, -0.0355]],\n",
              "       device='cuda:0', requires_grad=True)"
            ]
          },
          "metadata": {},
          "execution_count": 201
        }
      ]
    },
    {
      "cell_type": "code",
      "metadata": {
        "id": "-6KM7JZt0XwP",
        "outputId": "982e5c0e-fed1-4fee-c75e-f56f883abf31",
        "colab": {
          "base_uri": "https://localhost:8080/"
        }
      },
      "source": [
        "post_training_metrics = report_eval_metrics(model, test_data, step=0.01)"
      ],
      "execution_count": 202,
      "outputs": [
        {
          "output_type": "stream",
          "name": "stdout",
          "text": [
            "Batch 0 started\n",
            "Batch 25 started\n",
            "Batch 50 started\n",
            "Batch 75 started\n",
            "Batch 100 started\n",
            "Batch 125 started\n",
            "Batch 150 started\n",
            "Batch 175 started\n",
            "Batch 200 started\n",
            "Batch 225 started\n",
            "Batch 250 started\n",
            "Batch 275 started\n",
            "Batch 300 started\n",
            "Batch 325 started\n"
          ]
        },
        {
          "output_type": "stream",
          "name": "stderr",
          "text": [
            "/usr/local/lib/python3.7/dist-packages/ipykernel_launcher.py:38: RuntimeWarning: invalid value encountered in double_scalars\n"
          ]
        }
      ]
    },
    {
      "cell_type": "code",
      "metadata": {
        "id": "teWbOXZ6wbhf",
        "outputId": "ae389173-7ef4-4051-cd87-dc800c85b2cf",
        "colab": {
          "base_uri": "https://localhost:8080/"
        }
      },
      "source": [
        "post_training_metrics"
      ],
      "execution_count": 209,
      "outputs": [
        {
          "output_type": "execute_result",
          "data": {
            "text/plain": [
              "{0.0: array([0.04284501, 0.04050879, 1.        , 0.00246572, 0.07786343]),\n",
              " 0.01: array([0.88115625, 0.1903318 , 0.60673847, 0.89129904, 0.28976523]),\n",
              " 0.02: array([0.89559813, 0.21099378, 0.59044463, 0.90701218, 0.31089138]),\n",
              " 0.03: array([0.90160068, 0.22239616, 0.58851146, 0.9133393 , 0.32280542]),\n",
              " 0.04: array([0.90770383, 0.23577596, 0.58823529, 0.91970132, 0.33662584]),\n",
              " 0.05: array([0.9126333 , 0.24787618, 0.58823529, 0.92483048, 0.34878009]),\n",
              " 0.06: array([0.91471239, 0.25336029, 0.58823529, 0.9269938 , 0.35417359]),\n",
              " 0.07: array([0.91661264, 0.25858929, 0.58823529, 0.92897103, 0.35925114]),\n",
              " 0.08: array([0.91925063, 0.26621672, 0.58823529, 0.93171588, 0.36654621]),\n",
              " 0.09: array([0.9199772 , 0.26839718, 0.58823529, 0.93247188, 0.36860777]),\n",
              " 0.1: array([0.92036842, 0.26958613, 0.58823529, 0.93287896, 0.36972748]),\n",
              " 0.11: array([0.92061434, 0.27028056, 0.58795913, 0.93314647, 0.37032527]),\n",
              " 0.12: array([0.92056963, 0.26832076, 0.57939796, 0.9334605 , 0.36678322]),\n",
              " 0.13: array([0.91973128, 0.2600571 , 0.55343828, 0.93368148, 0.3538448 ]),\n",
              " 0.14: array([0.91939594, 0.25602094, 0.54018227, 0.93389083, 0.34739366]),\n",
              " 0.15: array([0.91919474, 0.25400578, 0.5341066 , 0.93393736, 0.34428126]),\n",
              " 0.16: array([0.91906061, 0.25269808, 0.53024027, 0.93396062, 0.3422765 ]),\n",
              " 0.17: array([0.91900472, 0.25214069, 0.52858326, 0.93397225, 0.34141991]),\n",
              " 0.18: array([0.91904943, 0.25220831, 0.5283071 , 0.9340304 , 0.34142424]),\n",
              " 0.19: array([0.91928417, 0.25277778, 0.52775476, 0.93429791, 0.34182989]),\n",
              " 0.2: array([0.92001073, 0.25477367, 0.52692626, 0.9350888 , 0.34347435]),\n",
              " 0.21: array([0.92163153, 0.25954198, 0.5258216 , 0.93682178, 0.34754039]),\n",
              " 0.22: array([0.92409068, 0.26704225, 0.52361226, 0.93947359, 0.35369835]),\n",
              " 0.23: array([0.9263598 , 0.27444428, 0.52167909, 0.94191605, 0.35967251]),\n",
              " 0.24: array([0.92862892, 0.28239352, 0.52002209, 0.94434688, 0.36602197]),\n",
              " 0.25: array([0.9306633 , 0.29012346, 0.51919359, 0.94649856, 0.37224037]),\n",
              " 0.26: array([0.93220585, 0.29624369, 0.51836509, 0.9481385 , 0.37702119]),\n",
              " 0.27: array([0.93339071, 0.30128411, 0.51836509, 0.94937136, 0.38107806]),\n",
              " 0.28: array([0.9342067 , 0.30485626, 0.51836509, 0.9502204 , 0.38392309]),\n",
              " 0.29: array([0.93489973, 0.3078943 , 0.51808893, 0.95095314, 0.38624665]),\n",
              " 0.3: array([0.93536921, 0.3100314 , 0.51808893, 0.95144163, 0.3879239 ]),\n",
              " 0.31: array([0.93589457, 0.31245836, 0.51808893, 0.95198828, 0.38981818]),\n",
              " 0.32: array([0.93653171, 0.31545317, 0.51808893, 0.95265123, 0.39214047]),\n",
              " 0.33: array([0.93739241, 0.31959114, 0.51808893, 0.9535468 , 0.39532188]),\n",
              " 0.34: array([0.93852138, 0.32518634, 0.51808893, 0.9547215 , 0.39957401]),\n",
              " 0.35000000000000003: array([0.93960564, 0.33068783, 0.51781276, 0.95586131, 0.4036164 ]),\n",
              " 0.36: array([0.94108113, 0.33851156, 0.51753659, 0.9574082 , 0.40930436]),\n",
              " 0.37: array([0.94248955, 0.34639556, 0.51753659, 0.95887368, 0.41501495]),\n",
              " 0.38: array([0.94411035, 0.35593542, 0.51753659, 0.96056014, 0.42178708]),\n",
              " 0.39: array([0.94546288, 0.36430793, 0.51753659, 0.96196746, 0.42760981]),\n",
              " 0.4: array([0.94646889, 0.37079541, 0.51753659, 0.96301422, 0.43204611]),\n",
              " 0.41000000000000003: array([0.94736313, 0.37675915, 0.51753659, 0.96394468, 0.43606748]),\n",
              " 0.42: array([0.94795556, 0.38081691, 0.51753659, 0.96456111, 0.43877312]),\n",
              " 0.43: array([0.94827972, 0.38307441, 0.51753659, 0.96489841, 0.44026783]),\n",
              " 0.44: array([0.94853681, 0.38488396, 0.51753659, 0.96516591, 0.44146054]),\n",
              " 0.45: array([0.9487939 , 0.38671069, 0.51753659, 0.96543342, 0.44265974]),\n",
              " 0.46: array([0.94901746, 0.3883133 , 0.51753659, 0.96566603, 0.44370783]),\n",
              " 0.47000000000000003: array([0.9492522 , 0.39001041, 0.51753659, 0.96591028, 0.44481367]),\n",
              " 0.48: array([0.94966578, 0.39303691, 0.51753659, 0.96634062, 0.44677554]),\n",
              " 0.49: array([0.94996758, 0.39527526, 0.51753659, 0.96665465, 0.44821813]),\n",
              " 0.5: array([0.95020232, 0.3970339 , 0.51753659, 0.96689889, 0.4493466 ]),\n",
              " 0.51: array([0.95047059, 0.39906303, 0.51753659, 0.96717803, 0.45064326]),\n",
              " 0.52: array([0.95068297, 0.4006842 , 0.51753659, 0.96739902, 0.4516751 ]),\n",
              " 0.53: array([0.95104067, 0.40344456, 0.51753659, 0.9677712 , 0.45342366]),\n",
              " 0.54: array([0.95133129, 0.40571552, 0.51753659, 0.9680736 , 0.45485437]),\n",
              " 0.55: array([0.95149896, 0.40703736, 0.51753659, 0.96824806, 0.45568389]),\n",
              " 0.56: array([0.95168899, 0.40854589, 0.51753659, 0.96844578, 0.45662768]),\n",
              " 0.5700000000000001: array([0.95186783, 0.40997594, 0.51753659, 0.96863188, 0.45751953]),\n",
              " 0.58: array([0.95224788, 0.41304827, 0.51753659, 0.96902732, 0.45942633]),\n",
              " 0.59: array([0.95266147, 0.41644444, 0.51753659, 0.96945766, 0.46151952]),\n",
              " 0.6: array([0.95323154, 0.42121825, 0.51753659, 0.97005083, 0.46443618]),\n",
              " 0.61: array([0.95361159, 0.42446206, 0.51753659, 0.97044627, 0.46640119]),\n",
              " 0.62: array([0.9538575 , 0.42658775, 0.51753659, 0.97070215, 0.46768156]),\n",
              " 0.63: array([0.95423755, 0.42991512, 0.51753659, 0.97109759, 0.46967419]),\n",
              " 0.64: array([0.95485234, 0.43540892, 0.51753659, 0.97173728, 0.47293375]),\n",
              " 0.65: array([0.95542241, 0.44063014, 0.51753659, 0.97233045, 0.47599695]),\n",
              " 0.66: array([0.95590306, 0.44513064, 0.51753659, 0.97283057, 0.47861065]),\n",
              " 0.67: array([0.95611545, 0.44714865, 0.51753659, 0.97305156, 0.47977471]),\n",
              " 0.68: array([0.95630547, 0.44896981, 0.51753659, 0.97324928, 0.48082104]),\n",
              " 0.6900000000000001: array([0.95648432, 0.45069745, 0.51753659, 0.97343537, 0.48181   ]),\n",
              " 0.7000000000000001: array([0.95667434, 0.45254769, 0.51753659, 0.9736331 , 0.48286524]),\n",
              " 0.71: array([0.95681966, 0.45397287, 0.51753659, 0.9737843 , 0.48367531]),\n",
              " 0.72: array([0.95713264, 0.45707317, 0.51753659, 0.97410996, 0.48542935]),\n",
              " 0.73: array([0.95776978, 0.46351719, 0.51753659, 0.97477291, 0.48903967]),\n",
              " 0.74: array([0.95835103, 0.4695565 , 0.51753659, 0.97537771, 0.49238045]),\n",
              " 0.75: array([0.95883168, 0.47467072, 0.51753659, 0.97587783, 0.4951777 ]),\n",
              " 0.76: array([0.95914466, 0.47806122, 0.51753659, 0.97620349, 0.49701631]),\n",
              " 0.77: array([0.95935705, 0.48038964, 0.51753659, 0.97642448, 0.49827174]),\n",
              " 0.78: array([0.95955825, 0.48261653, 0.51753659, 0.97663383, 0.49946695]),\n",
              " 0.79: array([0.95968121, 0.4839876 , 0.51753659, 0.97676177, 0.50020019]),\n",
              " 0.8: array([0.95975945, 0.48486417, 0.51753659, 0.97684318, 0.50066791]),\n",
              " 0.81: array([0.95982652, 0.48561804, 0.51753659, 0.97691297, 0.50106952]),\n",
              " 0.8200000000000001: array([0.9599383 , 0.48687971, 0.51753659, 0.97702927, 0.50174029]),\n",
              " 0.8300000000000001: array([0.9600389 , 0.48802083, 0.51753659, 0.97713395, 0.50234553]),\n",
              " 0.84: array([0.96012832, 0.48903967, 0.51753659, 0.977227  , 0.50288474]),\n",
              " 0.85: array([0.96022892, 0.49019095, 0.51753659, 0.97733167, 0.50349275]),\n",
              " 0.86: array([0.96027364, 0.49070437, 0.51753659, 0.9773782 , 0.50376344]),\n",
              " 0.87: array([0.9603407 , 0.49147653, 0.51753659, 0.97744798, 0.50417003]),\n",
              " 0.88: array([0.96130201, 0.50281728, 0.51753659, 0.97844823, 0.51007077]),\n",
              " 0.89: array([0.96290045, 0.52287946, 0.51753659, 0.98011142, 0.52019431]),\n",
              " 0.9: array([0.96361584, 0.53238636, 0.51753659, 0.98085579, 0.52485646]),\n",
              " 0.91: array([0.96445418, 0.54397678, 0.51753659, 0.9817281 , 0.5304274 ]),\n",
              " 0.92: array([0.96523664, 0.55525926, 0.51753659, 0.98254225, 0.53573471]),\n",
              " 0.93: array([0.96624265, 0.57047184, 0.51753659, 0.98358902, 0.54271648]),\n",
              " 0.9400000000000001: array([0.96667859, 0.57732594, 0.51753659, 0.98404262, 0.54579875]),\n",
              " 0.9500000000000001: array([0.96836646, 0.60562925, 0.51698426, 0.98582212, 0.55780691]),\n",
              " 0.96: array([0.96873533, 0.62573314, 0.47141674, 0.98812501, 0.53772248]),\n",
              " 0.97: array([0.96993137, 0.65542924, 0.4617509 , 0.98977657, 0.54180169]),\n",
              " 0.98: array([0.97013257, 0.66804807, 0.44518089, 0.99068377, 0.5343056 ]),\n",
              " 0.99: array([0.97018846, 0.67056856, 0.44297155, 0.99083497, 0.53351073]),\n",
              " 1.0: array([0.96106727,        nan, 0.        , 1.        , 0.        ])}"
            ]
          },
          "metadata": {},
          "execution_count": 209
        }
      ]
    },
    {
      "cell_type": "markdown",
      "metadata": {
        "id": "a5_bA5jiHE1U"
      },
      "source": [
        "# Saving objects"
      ]
    },
    {
      "cell_type": "code",
      "metadata": {
        "id": "IQFU7OLgkbuo"
      },
      "source": [
        "model_path = \"/content/drive/MyDrive/model.pt\""
      ],
      "execution_count": 203,
      "outputs": []
    },
    {
      "cell_type": "code",
      "metadata": {
        "id": "EaeuHuR8kxmZ"
      },
      "source": [
        "torch.save(model.state_dict(), model_path)"
      ],
      "execution_count": 204,
      "outputs": []
    },
    {
      "cell_type": "code",
      "metadata": {
        "id": "X6pck9awiLIn"
      },
      "source": [
        "pre_training_metrics_path = \"/content/drive/MyDrive/pre_training_metrics.pkl\"\n",
        "post_training_metrics_path = \"/content/drive/MyDrive/post_training_metrics.pkl\""
      ],
      "execution_count": 205,
      "outputs": []
    },
    {
      "cell_type": "code",
      "metadata": {
        "id": "IL6HnftJiYUh"
      },
      "source": [
        "import pickle\n",
        "\n",
        "with open(pre_training_metrics_path, \"wb\") as f:\n",
        "    pickle.dump(pre_training_metrics, f)\n",
        "\n",
        "with open(post_training_metrics_path, \"wb\") as f:\n",
        "    pickle.dump(post_training_metrics, f)"
      ],
      "execution_count": 206,
      "outputs": []
    },
    {
      "cell_type": "code",
      "metadata": {
        "id": "_cytOe59HIO_"
      },
      "source": [
        "train_data_path = \"/content/drive/MyDrive/train_data.zip\"\n",
        "test_data_path = \"/content/drive/MyDrive/test_data.zip\"\n",
        "eval_data_path = \"/content/drive/MyDrive/eval_data.zip\""
      ],
      "execution_count": 207,
      "outputs": []
    },
    {
      "cell_type": "code",
      "metadata": {
        "id": "cUoAkyMzHIMI"
      },
      "source": [
        "train_data.to_csv(path_or_buf=train_data_path, index=False)\n",
        "test_data.to_csv(path_or_buf=test_data_path, index=False)\n",
        "eval_data.to_csv(path_or_buf=eval_data_path, index=False)"
      ],
      "execution_count": 208,
      "outputs": []
    },
    {
      "cell_type": "code",
      "metadata": {
        "id": "bKNezVi5Iit6"
      },
      "source": [
        "test_read = pd.read_csv(train_data_path)"
      ],
      "execution_count": 163,
      "outputs": []
    },
    {
      "cell_type": "code",
      "metadata": {
        "colab": {
          "base_uri": "https://localhost:8080/"
        },
        "id": "7ZlxLw6wIvdT",
        "outputId": "a2e80ec5-bc25-423a-99a4-1fa8cba08200"
      },
      "source": [
        "train_data.shape"
      ],
      "execution_count": 164,
      "outputs": [
        {
          "output_type": "execute_result",
          "data": {
            "text/plain": [
              "(715692, 29)"
            ]
          },
          "metadata": {},
          "execution_count": 164
        }
      ]
    },
    {
      "cell_type": "code",
      "metadata": {
        "colab": {
          "base_uri": "https://localhost:8080/"
        },
        "id": "IXPiOD-PIpzW",
        "outputId": "97cd6965-6987-47ee-a3af-05e4b23418d0"
      },
      "source": [
        "test_read.shape"
      ],
      "execution_count": 165,
      "outputs": [
        {
          "output_type": "execute_result",
          "data": {
            "text/plain": [
              "(715692, 29)"
            ]
          },
          "metadata": {},
          "execution_count": 165
        }
      ]
    },
    {
      "cell_type": "code",
      "metadata": {
        "colab": {
          "base_uri": "https://localhost:8080/"
        },
        "id": "VOSJwXTgNC3k",
        "outputId": "b2cb689b-14e6-448d-c9ba-4d3ac608a658"
      },
      "source": [
        "train_data.iloc[8169]"
      ],
      "execution_count": null,
      "outputs": [
        {
          "data": {
            "text/plain": [
              "tweetid                                                   1217514045751930882\n",
              "userid                            vzE2Thz2OP5EUbQsVtqv90Ri7KiFTUHafGgb+aJxag=\n",
              "user_display_name                 vze2thz2op5eubqsvtqv90ri7kiftuhafggb+ajxag=\n",
              "user_screen_name                  vzE2Thz2OP5EUbQsVtqv90Ri7KiFTUHafGgb+aJxag=\n",
              "user_reported_location                                                       \n",
              "user_profile_description                                                  nan\n",
              "follower_count                                                            528\n",
              "following_count                                                          1106\n",
              "account_creation_date                                              2016-02-20\n",
              "account_language                                                           tr\n",
              "tweet_language                                                             tr\n",
              "tweet_text                  : hiçbir esnaf ticari itibarını i̇smini çocuğu...\n",
              "tweet_time                                                   2020-01-15 18:29\n",
              "tweet_client_name                                          Twitter for iPhone\n",
              "is_retweet                                                               True\n",
              "like_count                                                                  0\n",
              "retweet_count                                                               0\n",
              "hashtags                                                                     \n",
              "urls                                                                         \n",
              "user_mentions                                                       352297559\n",
              "label                                                                       0\n",
              "Name: 389860, dtype: object"
            ]
          },
          "execution_count": 119,
          "metadata": {},
          "output_type": "execute_result"
        }
      ]
    },
    {
      "cell_type": "code",
      "metadata": {
        "colab": {
          "base_uri": "https://localhost:8080/"
        },
        "id": "xAjKPtvfNC06",
        "outputId": "e20627a9-6efb-4695-8427-effeccc2bacc"
      },
      "source": [
        "test_read['tweetid'].iloc[8169]"
      ],
      "execution_count": null,
      "outputs": [
        {
          "data": {
            "text/plain": [
              "1217514045751930882"
            ]
          },
          "execution_count": 120,
          "metadata": {},
          "output_type": "execute_result"
        }
      ]
    },
    {
      "cell_type": "code",
      "metadata": {
        "colab": {
          "base_uri": "https://localhost:8080/",
          "height": 405
        },
        "id": "c19YCVR2L0vy",
        "outputId": "e7a99d45-8a28-4c3d-9df3-ea6933cd9569"
      },
      "source": [
        "i = 0\n",
        "j = 0\n",
        "bad_j_vals = []\n",
        "\n",
        "while (i < train_data.shape[0]):\n",
        "  if str(train_data['tweetid'].iat[i]) != test_read['tweetid'].iat[j]:\n",
        "    bad_j_vals.append(j)\n",
        "    j += 1\n",
        "  else:\n",
        "    i += 1\n",
        "    j += 1\n",
        "\n",
        "bad_j_vals"
      ],
      "execution_count": null,
      "outputs": [
        {
          "ename": "IndexError",
          "evalue": "ignored",
          "output_type": "error",
          "traceback": [
            "\u001b[0;31m---------------------------------------------------------------------------\u001b[0m",
            "\u001b[0;31mIndexError\u001b[0m                                Traceback (most recent call last)",
            "\u001b[0;32m<ipython-input-124-eac1aef5dc1d>\u001b[0m in \u001b[0;36m<module>\u001b[0;34m()\u001b[0m\n\u001b[1;32m      4\u001b[0m \u001b[0;34m\u001b[0m\u001b[0m\n\u001b[1;32m      5\u001b[0m \u001b[0;32mwhile\u001b[0m \u001b[0;34m(\u001b[0m\u001b[0mi\u001b[0m \u001b[0;34m<\u001b[0m \u001b[0mtrain_data\u001b[0m\u001b[0;34m.\u001b[0m\u001b[0mshape\u001b[0m\u001b[0;34m[\u001b[0m\u001b[0;36m0\u001b[0m\u001b[0;34m]\u001b[0m\u001b[0;34m)\u001b[0m\u001b[0;34m:\u001b[0m\u001b[0;34m\u001b[0m\u001b[0;34m\u001b[0m\u001b[0m\n\u001b[0;32m----> 6\u001b[0;31m   \u001b[0;32mif\u001b[0m \u001b[0mstr\u001b[0m\u001b[0;34m(\u001b[0m\u001b[0mtrain_data\u001b[0m\u001b[0;34m[\u001b[0m\u001b[0;34m'tweetid'\u001b[0m\u001b[0;34m]\u001b[0m\u001b[0;34m.\u001b[0m\u001b[0miat\u001b[0m\u001b[0;34m[\u001b[0m\u001b[0mi\u001b[0m\u001b[0;34m]\u001b[0m\u001b[0;34m)\u001b[0m \u001b[0;34m!=\u001b[0m \u001b[0mtest_read\u001b[0m\u001b[0;34m[\u001b[0m\u001b[0;34m'tweetid'\u001b[0m\u001b[0;34m]\u001b[0m\u001b[0;34m.\u001b[0m\u001b[0miat\u001b[0m\u001b[0;34m[\u001b[0m\u001b[0mj\u001b[0m\u001b[0;34m]\u001b[0m\u001b[0;34m:\u001b[0m\u001b[0;34m\u001b[0m\u001b[0;34m\u001b[0m\u001b[0m\n\u001b[0m\u001b[1;32m      7\u001b[0m     \u001b[0mbad_j_vals\u001b[0m\u001b[0;34m.\u001b[0m\u001b[0mappend\u001b[0m\u001b[0;34m(\u001b[0m\u001b[0mj\u001b[0m\u001b[0;34m)\u001b[0m\u001b[0;34m\u001b[0m\u001b[0;34m\u001b[0m\u001b[0m\n\u001b[1;32m      8\u001b[0m     \u001b[0mj\u001b[0m \u001b[0;34m+=\u001b[0m \u001b[0;36m1\u001b[0m\u001b[0;34m\u001b[0m\u001b[0;34m\u001b[0m\u001b[0m\n",
            "\u001b[0;32m/usr/local/lib/python3.7/dist-packages/pandas/core/indexing.py\u001b[0m in \u001b[0;36m__getitem__\u001b[0;34m(self, key)\u001b[0m\n\u001b[1;32m   2023\u001b[0m \u001b[0;34m\u001b[0m\u001b[0m\n\u001b[1;32m   2024\u001b[0m         \u001b[0mkey\u001b[0m \u001b[0;34m=\u001b[0m \u001b[0mself\u001b[0m\u001b[0;34m.\u001b[0m\u001b[0m_convert_key\u001b[0m\u001b[0;34m(\u001b[0m\u001b[0mkey\u001b[0m\u001b[0;34m)\u001b[0m\u001b[0;34m\u001b[0m\u001b[0;34m\u001b[0m\u001b[0m\n\u001b[0;32m-> 2025\u001b[0;31m         \u001b[0;32mreturn\u001b[0m \u001b[0mself\u001b[0m\u001b[0;34m.\u001b[0m\u001b[0mobj\u001b[0m\u001b[0;34m.\u001b[0m\u001b[0m_get_value\u001b[0m\u001b[0;34m(\u001b[0m\u001b[0;34m*\u001b[0m\u001b[0mkey\u001b[0m\u001b[0;34m,\u001b[0m \u001b[0mtakeable\u001b[0m\u001b[0;34m=\u001b[0m\u001b[0mself\u001b[0m\u001b[0;34m.\u001b[0m\u001b[0m_takeable\u001b[0m\u001b[0;34m)\u001b[0m\u001b[0;34m\u001b[0m\u001b[0;34m\u001b[0m\u001b[0m\n\u001b[0m\u001b[1;32m   2026\u001b[0m \u001b[0;34m\u001b[0m\u001b[0m\n\u001b[1;32m   2027\u001b[0m     \u001b[0;32mdef\u001b[0m \u001b[0m__setitem__\u001b[0m\u001b[0;34m(\u001b[0m\u001b[0mself\u001b[0m\u001b[0;34m,\u001b[0m \u001b[0mkey\u001b[0m\u001b[0;34m,\u001b[0m \u001b[0mvalue\u001b[0m\u001b[0;34m)\u001b[0m\u001b[0;34m:\u001b[0m\u001b[0;34m\u001b[0m\u001b[0;34m\u001b[0m\u001b[0m\n",
            "\u001b[0;32m/usr/local/lib/python3.7/dist-packages/pandas/core/series.py\u001b[0m in \u001b[0;36m_get_value\u001b[0;34m(self, label, takeable)\u001b[0m\n\u001b[1;32m    985\u001b[0m         \"\"\"\n\u001b[1;32m    986\u001b[0m         \u001b[0;32mif\u001b[0m \u001b[0mtakeable\u001b[0m\u001b[0;34m:\u001b[0m\u001b[0;34m\u001b[0m\u001b[0;34m\u001b[0m\u001b[0m\n\u001b[0;32m--> 987\u001b[0;31m             \u001b[0;32mreturn\u001b[0m \u001b[0mself\u001b[0m\u001b[0;34m.\u001b[0m\u001b[0m_values\u001b[0m\u001b[0;34m[\u001b[0m\u001b[0mlabel\u001b[0m\u001b[0;34m]\u001b[0m\u001b[0;34m\u001b[0m\u001b[0;34m\u001b[0m\u001b[0m\n\u001b[0m\u001b[1;32m    988\u001b[0m \u001b[0;34m\u001b[0m\u001b[0m\n\u001b[1;32m    989\u001b[0m         \u001b[0;31m# Similar to Index.get_value, but we do not fall back to positional\u001b[0m\u001b[0;34m\u001b[0m\u001b[0;34m\u001b[0m\u001b[0;34m\u001b[0m\u001b[0m\n",
            "\u001b[0;31mIndexError\u001b[0m: index 80000 is out of bounds for axis 0 with size 80000"
          ]
        }
      ]
    },
    {
      "cell_type": "markdown",
      "metadata": {
        "id": "-HZ8L8Z2Env9"
      },
      "source": [
        "# Debugging"
      ]
    },
    {
      "cell_type": "code",
      "metadata": {
        "id": "kVjsY7_kErGm"
      },
      "source": [
        "times"
      ],
      "execution_count": null,
      "outputs": []
    },
    {
      "cell_type": "code",
      "metadata": {
        "colab": {
          "base_uri": "https://localhost:8080/",
          "height": 183
        },
        "id": "ltvwfZFyALHz",
        "outputId": "75658e1b-0160-432c-caa4-cf8ace18e8b7"
      },
      "source": [
        "torch.cuda.memory_summary(device=\"cuda\", abbreviated=False)"
      ],
      "execution_count": null,
      "outputs": [
        {
          "data": {
            "application/vnd.google.colaboratory.intrinsic+json": {
              "type": "string"
            },
            "text/plain": [
              "'|===========================================================================|\\n|                  PyTorch CUDA memory summary, device ID 0                 |\\n|---------------------------------------------------------------------------|\\n|            CUDA OOMs: 8            |        cudaMalloc retries: 13        |\\n|===========================================================================|\\n|        Metric         | Cur Usage  | Peak Usage | Tot Alloc  | Tot Freed  |\\n|---------------------------------------------------------------------------|\\n| Allocated memory      |   10661 MB |   10674 MB |   10036 GB |   10026 GB |\\n|       from large pool |   10658 MB |   10672 MB |   10032 GB |   10021 GB |\\n|       from small pool |       2 MB |       3 MB |       4 GB |       4 GB |\\n|---------------------------------------------------------------------------|\\n| Active memory         |   10661 MB |   10674 MB |   10036 GB |   10026 GB |\\n|       from large pool |   10658 MB |   10672 MB |   10032 GB |   10021 GB |\\n|       from small pool |       2 MB |       3 MB |       4 GB |       4 GB |\\n|---------------------------------------------------------------------------|\\n| GPU reserved memory   |   10854 MB |   10854 MB |   51088 MB |   40234 MB |\\n|       from large pool |   10850 MB |   10850 MB |   51084 MB |   40234 MB |\\n|       from small pool |       4 MB |       4 MB |       4 MB |       0 MB |\\n|---------------------------------------------------------------------------|\\n| Non-releasable memory |  197357 KB |    3238 MB |    8339 GB |    8339 GB |\\n|       from large pool |  196048 KB |    3236 MB |    8333 GB |    8333 GB |\\n|       from small pool |    1309 KB |       2 MB |       6 GB |       6 GB |\\n|---------------------------------------------------------------------------|\\n| Allocations           |     516    |     520    |  603801    |  603285    |\\n|       from large pool |     218    |     222    |  431584    |  431366    |\\n|       from small pool |     298    |     313    |  172217    |  171919    |\\n|---------------------------------------------------------------------------|\\n| Active allocs         |     516    |     520    |  603801    |  603285    |\\n|       from large pool |     218    |     222    |  431584    |  431366    |\\n|       from small pool |     298    |     313    |  172217    |  171919    |\\n|---------------------------------------------------------------------------|\\n| GPU reserved segments |      69    |     100    |     241    |     172    |\\n|       from large pool |      67    |      98    |     239    |     172    |\\n|       from small pool |       2    |       2    |       2    |       0    |\\n|---------------------------------------------------------------------------|\\n| Non-releasable allocs |      71    |      77    |  307808    |  307737    |\\n|       from large pool |      59    |      67    |  247619    |  247560    |\\n|       from small pool |      12    |      16    |   60189    |   60177    |\\n|===========================================================================|\\n'"
            ]
          },
          "execution_count": 47,
          "metadata": {},
          "output_type": "execute_result"
        }
      ]
    },
    {
      "cell_type": "code",
      "metadata": {
        "colab": {
          "base_uri": "https://localhost:8080/"
        },
        "id": "dIef9DSDQLwT",
        "outputId": "c721e453-1027-4f9c-822b-40e50d726095"
      },
      "source": [
        "for obj in gc.get_objects():\n",
        "    try:\n",
        "        if torch.is_tensor(obj) or (hasattr(obj, 'data') and torch.is_tensor(obj.data)):\n",
        "            print(type(obj), obj.size())\n",
        "    except:\n",
        "        pass"
      ],
      "execution_count": null,
      "outputs": [
        {
          "name": "stderr",
          "output_type": "stream",
          "text": [
            "/usr/local/lib/python3.7/dist-packages/ipykernel_launcher.py:3: DeprecationWarning: astor.all_symbols is deprecated.  Please use astor.symbol_data.\n",
            "  This is separate from the ipykernel package so we can avoid doing imports until\n",
            "/usr/local/lib/python3.7/dist-packages/ipykernel_launcher.py:3: DeprecationWarning: astor.treewalk is deprecated.  Please use astor.tree_walk.\n",
            "  This is separate from the ipykernel package so we can avoid doing imports until\n",
            "/usr/local/lib/python3.7/dist-packages/ipykernel_launcher.py:3: DeprecationWarning: astor.codegen is deprecated.  Please use astor.code_gen.\n",
            "  This is separate from the ipykernel package so we can avoid doing imports until\n",
            "/usr/local/lib/python3.7/dist-packages/torch/distributed/distributed_c10d.py:151: UserWarning: torch.distributed.reduce_op is deprecated, please use torch.distributed.ReduceOp instead\n",
            "  warnings.warn(\"torch.distributed.reduce_op is deprecated, please use \"\n"
          ]
        },
        {
          "name": "stdout",
          "output_type": "stream",
          "text": [
            "<class 'torch.nn.parameter.Parameter'> torch.Size([32000, 768])\n",
            "<class 'torch.nn.parameter.Parameter'> torch.Size([512, 768])\n",
            "<class 'torch.nn.parameter.Parameter'> torch.Size([2, 768])\n",
            "<class 'torch.nn.parameter.Parameter'> torch.Size([768])\n",
            "<class 'torch.nn.parameter.Parameter'> torch.Size([768])\n",
            "<class 'torch.nn.parameter.Parameter'> torch.Size([768, 768])\n",
            "<class 'torch.nn.parameter.Parameter'> torch.Size([768])\n",
            "<class 'torch.nn.parameter.Parameter'> torch.Size([3072, 768])\n",
            "<class 'torch.nn.parameter.Parameter'> torch.Size([3072])\n",
            "<class 'torch.nn.parameter.Parameter'> torch.Size([768, 3072])\n",
            "<class 'torch.nn.parameter.Parameter'> torch.Size([768])\n",
            "<class 'torch.nn.parameter.Parameter'> torch.Size([768])\n",
            "<class 'torch.nn.parameter.Parameter'> torch.Size([768])\n",
            "<class 'torch.nn.parameter.Parameter'> torch.Size([3072, 768])\n",
            "<class 'torch.nn.parameter.Parameter'> torch.Size([3072])\n",
            "<class 'torch.nn.parameter.Parameter'> torch.Size([768, 3072])\n",
            "<class 'torch.nn.parameter.Parameter'> torch.Size([768])\n",
            "<class 'torch.nn.parameter.Parameter'> torch.Size([768])\n",
            "<class 'torch.nn.parameter.Parameter'> torch.Size([768])\n",
            "<class 'torch.nn.parameter.Parameter'> torch.Size([768, 768])\n",
            "<class 'torch.nn.parameter.Parameter'> torch.Size([768])\n",
            "<class 'torch.nn.parameter.Parameter'> torch.Size([768, 768])\n",
            "<class 'torch.nn.parameter.Parameter'> torch.Size([768])\n",
            "<class 'torch.nn.parameter.Parameter'> torch.Size([768, 768])\n",
            "<class 'torch.nn.parameter.Parameter'> torch.Size([768])\n",
            "<class 'torch.nn.parameter.Parameter'> torch.Size([768, 768])\n",
            "<class 'torch.nn.parameter.Parameter'> torch.Size([768])\n",
            "<class 'torch.nn.parameter.Parameter'> torch.Size([768])\n",
            "<class 'torch.nn.parameter.Parameter'> torch.Size([768])\n",
            "<class 'torch.nn.parameter.Parameter'> torch.Size([768, 768])\n",
            "<class 'torch.nn.parameter.Parameter'> torch.Size([768])\n",
            "<class 'torch.nn.parameter.Parameter'> torch.Size([768, 768])\n",
            "<class 'torch.nn.parameter.Parameter'> torch.Size([768])\n",
            "<class 'torch.nn.parameter.Parameter'> torch.Size([768, 768])\n",
            "<class 'torch.nn.parameter.Parameter'> torch.Size([768])\n",
            "<class 'torch.nn.parameter.Parameter'> torch.Size([768, 768])\n",
            "<class 'torch.nn.parameter.Parameter'> torch.Size([768])\n",
            "<class 'torch.nn.parameter.Parameter'> torch.Size([768])\n",
            "<class 'torch.nn.parameter.Parameter'> torch.Size([768])\n",
            "<class 'torch.nn.parameter.Parameter'> torch.Size([13, 1])\n",
            "<class 'torch.Tensor'> torch.Size([1, 512])\n",
            "<class 'torch.Tensor'> torch.Size([1, 512])\n",
            "<class 'torch.nn.parameter.Parameter'> torch.Size([1])\n",
            "<class 'torch.nn.parameter.Parameter'> torch.Size([1, 39])\n",
            "<class 'torch.nn.parameter.Parameter'> torch.Size([32])\n",
            "<class 'torch.nn.parameter.Parameter'> torch.Size([32, 768])\n",
            "<class 'torch.nn.parameter.Parameter'> torch.Size([32000, 768])\n",
            "<class 'torch.nn.parameter.Parameter'> torch.Size([512, 768])\n",
            "<class 'torch.nn.parameter.Parameter'> torch.Size([2, 768])\n",
            "<class 'torch.nn.parameter.Parameter'> torch.Size([768])\n",
            "<class 'torch.nn.parameter.Parameter'> torch.Size([768])\n",
            "<class 'torch.nn.parameter.Parameter'> torch.Size([13, 1])\n",
            "<class 'torch.Tensor'> torch.Size([1, 512])\n",
            "<class 'torch.Tensor'> torch.Size([1, 512])\n",
            "<class 'torch.nn.parameter.Parameter'> torch.Size([1])\n",
            "<class 'torch.nn.parameter.Parameter'> torch.Size([1, 39])\n",
            "<class 'torch.nn.parameter.Parameter'> torch.Size([32])\n",
            "<class 'torch.nn.parameter.Parameter'> torch.Size([32, 768])\n",
            "<class 'torch.nn.parameter.Parameter'> torch.Size([768])\n",
            "<class 'torch.nn.parameter.Parameter'> torch.Size([768, 768])\n",
            "<class 'torch.nn.parameter.Parameter'> torch.Size([3072, 768])\n",
            "<class 'torch.nn.parameter.Parameter'> torch.Size([3072])\n",
            "<class 'torch.nn.parameter.Parameter'> torch.Size([768, 3072])\n",
            "<class 'torch.nn.parameter.Parameter'> torch.Size([768])\n",
            "<class 'torch.nn.parameter.Parameter'> torch.Size([768])\n",
            "<class 'torch.nn.parameter.Parameter'> torch.Size([768])\n",
            "<class 'torch.nn.parameter.Parameter'> torch.Size([3072, 768])\n",
            "<class 'torch.nn.parameter.Parameter'> torch.Size([3072])\n",
            "<class 'torch.nn.parameter.Parameter'> torch.Size([768, 3072])\n",
            "<class 'torch.nn.parameter.Parameter'> torch.Size([768])\n",
            "<class 'torch.nn.parameter.Parameter'> torch.Size([768])\n",
            "<class 'torch.nn.parameter.Parameter'> torch.Size([768])\n",
            "<class 'torch.nn.parameter.Parameter'> torch.Size([3072, 768])\n",
            "<class 'torch.nn.parameter.Parameter'> torch.Size([3072])\n",
            "<class 'torch.nn.parameter.Parameter'> torch.Size([768, 3072])\n",
            "<class 'torch.nn.parameter.Parameter'> torch.Size([768])\n",
            "<class 'torch.nn.parameter.Parameter'> torch.Size([768])\n",
            "<class 'torch.nn.parameter.Parameter'> torch.Size([768])\n",
            "<class 'torch.nn.parameter.Parameter'> torch.Size([3072, 768])\n",
            "<class 'torch.nn.parameter.Parameter'> torch.Size([3072])\n",
            "<class 'torch.nn.parameter.Parameter'> torch.Size([768, 3072])\n",
            "<class 'torch.nn.parameter.Parameter'> torch.Size([768])\n",
            "<class 'torch.nn.parameter.Parameter'> torch.Size([768])\n",
            "<class 'torch.nn.parameter.Parameter'> torch.Size([768])\n",
            "<class 'torch.nn.parameter.Parameter'> torch.Size([3072, 768])\n",
            "<class 'torch.nn.parameter.Parameter'> torch.Size([3072])\n",
            "<class 'torch.nn.parameter.Parameter'> torch.Size([768, 3072])\n",
            "<class 'torch.nn.parameter.Parameter'> torch.Size([768])\n",
            "<class 'torch.nn.parameter.Parameter'> torch.Size([768])\n",
            "<class 'torch.nn.parameter.Parameter'> torch.Size([768])\n",
            "<class 'torch.nn.parameter.Parameter'> torch.Size([3072, 768])\n",
            "<class 'torch.nn.parameter.Parameter'> torch.Size([3072])\n",
            "<class 'torch.nn.parameter.Parameter'> torch.Size([768, 3072])\n",
            "<class 'torch.nn.parameter.Parameter'> torch.Size([768])\n",
            "<class 'torch.nn.parameter.Parameter'> torch.Size([768])\n",
            "<class 'torch.nn.parameter.Parameter'> torch.Size([768])\n",
            "<class 'torch.nn.parameter.Parameter'> torch.Size([3072, 768])\n",
            "<class 'torch.nn.parameter.Parameter'> torch.Size([3072])\n",
            "<class 'torch.nn.parameter.Parameter'> torch.Size([768, 3072])\n",
            "<class 'torch.nn.parameter.Parameter'> torch.Size([768])\n",
            "<class 'torch.nn.parameter.Parameter'> torch.Size([768])\n",
            "<class 'torch.nn.parameter.Parameter'> torch.Size([768])\n",
            "<class 'torch.nn.parameter.Parameter'> torch.Size([3072, 768])\n",
            "<class 'torch.nn.parameter.Parameter'> torch.Size([3072])\n",
            "<class 'torch.nn.parameter.Parameter'> torch.Size([768, 3072])\n",
            "<class 'torch.nn.parameter.Parameter'> torch.Size([768])\n",
            "<class 'torch.nn.parameter.Parameter'> torch.Size([768])\n",
            "<class 'torch.nn.parameter.Parameter'> torch.Size([768])\n",
            "<class 'torch.nn.parameter.Parameter'> torch.Size([3072, 768])\n",
            "<class 'torch.nn.parameter.Parameter'> torch.Size([3072])\n",
            "<class 'torch.nn.parameter.Parameter'> torch.Size([768, 3072])\n",
            "<class 'torch.nn.parameter.Parameter'> torch.Size([768])\n",
            "<class 'torch.nn.parameter.Parameter'> torch.Size([768])\n",
            "<class 'torch.nn.parameter.Parameter'> torch.Size([768])\n",
            "<class 'torch.nn.parameter.Parameter'> torch.Size([3072, 768])\n",
            "<class 'torch.nn.parameter.Parameter'> torch.Size([3072])\n",
            "<class 'torch.nn.parameter.Parameter'> torch.Size([768, 3072])\n",
            "<class 'torch.nn.parameter.Parameter'> torch.Size([768])\n",
            "<class 'torch.nn.parameter.Parameter'> torch.Size([768])\n",
            "<class 'torch.nn.parameter.Parameter'> torch.Size([768])\n",
            "<class 'torch.nn.parameter.Parameter'> torch.Size([768, 768])\n",
            "<class 'torch.nn.parameter.Parameter'> torch.Size([768])\n",
            "<class 'torch.nn.parameter.Parameter'> torch.Size([768, 768])\n",
            "<class 'torch.nn.parameter.Parameter'> torch.Size([768])\n",
            "<class 'torch.nn.parameter.Parameter'> torch.Size([768, 768])\n",
            "<class 'torch.nn.parameter.Parameter'> torch.Size([768])\n",
            "<class 'torch.nn.parameter.Parameter'> torch.Size([768, 768])\n",
            "<class 'torch.nn.parameter.Parameter'> torch.Size([768])\n",
            "<class 'torch.nn.parameter.Parameter'> torch.Size([768])\n",
            "<class 'torch.nn.parameter.Parameter'> torch.Size([768])\n",
            "<class 'torch.nn.parameter.Parameter'> torch.Size([768, 768])\n",
            "<class 'torch.nn.parameter.Parameter'> torch.Size([768])\n",
            "<class 'torch.nn.parameter.Parameter'> torch.Size([768, 768])\n",
            "<class 'torch.nn.parameter.Parameter'> torch.Size([768])\n",
            "<class 'torch.nn.parameter.Parameter'> torch.Size([768, 768])\n",
            "<class 'torch.nn.parameter.Parameter'> torch.Size([768])\n",
            "<class 'torch.nn.parameter.Parameter'> torch.Size([768, 768])\n",
            "<class 'torch.nn.parameter.Parameter'> torch.Size([768])\n",
            "<class 'torch.nn.parameter.Parameter'> torch.Size([768])\n",
            "<class 'torch.nn.parameter.Parameter'> torch.Size([768])\n",
            "<class 'torch.nn.parameter.Parameter'> torch.Size([768, 768])\n",
            "<class 'torch.nn.parameter.Parameter'> torch.Size([768])\n",
            "<class 'torch.nn.parameter.Parameter'> torch.Size([768, 768])\n",
            "<class 'torch.nn.parameter.Parameter'> torch.Size([768])\n",
            "<class 'torch.nn.parameter.Parameter'> torch.Size([768, 768])\n",
            "<class 'torch.nn.parameter.Parameter'> torch.Size([768])\n",
            "<class 'torch.nn.parameter.Parameter'> torch.Size([768, 768])\n",
            "<class 'torch.nn.parameter.Parameter'> torch.Size([768])\n",
            "<class 'torch.nn.parameter.Parameter'> torch.Size([768])\n",
            "<class 'torch.nn.parameter.Parameter'> torch.Size([768])\n",
            "<class 'torch.nn.parameter.Parameter'> torch.Size([768, 768])\n",
            "<class 'torch.nn.parameter.Parameter'> torch.Size([768])\n",
            "<class 'torch.nn.parameter.Parameter'> torch.Size([768, 768])\n",
            "<class 'torch.nn.parameter.Parameter'> torch.Size([768])\n",
            "<class 'torch.nn.parameter.Parameter'> torch.Size([768, 768])\n",
            "<class 'torch.nn.parameter.Parameter'> torch.Size([768])\n",
            "<class 'torch.nn.parameter.Parameter'> torch.Size([768, 768])\n",
            "<class 'torch.nn.parameter.Parameter'> torch.Size([768])\n",
            "<class 'torch.nn.parameter.Parameter'> torch.Size([768])\n",
            "<class 'torch.nn.parameter.Parameter'> torch.Size([768])\n",
            "<class 'torch.nn.parameter.Parameter'> torch.Size([768, 768])\n",
            "<class 'torch.nn.parameter.Parameter'> torch.Size([768])\n",
            "<class 'torch.nn.parameter.Parameter'> torch.Size([768, 768])\n",
            "<class 'torch.nn.parameter.Parameter'> torch.Size([768])\n",
            "<class 'torch.nn.parameter.Parameter'> torch.Size([768, 768])\n",
            "<class 'torch.nn.parameter.Parameter'> torch.Size([768])\n",
            "<class 'torch.nn.parameter.Parameter'> torch.Size([768, 768])\n",
            "<class 'torch.nn.parameter.Parameter'> torch.Size([768])\n",
            "<class 'torch.nn.parameter.Parameter'> torch.Size([768])\n",
            "<class 'torch.nn.parameter.Parameter'> torch.Size([768])\n",
            "<class 'torch.nn.parameter.Parameter'> torch.Size([768, 768])\n",
            "<class 'torch.nn.parameter.Parameter'> torch.Size([768])\n",
            "<class 'torch.nn.parameter.Parameter'> torch.Size([768, 768])\n",
            "<class 'torch.nn.parameter.Parameter'> torch.Size([768])\n",
            "<class 'torch.nn.parameter.Parameter'> torch.Size([768, 768])\n",
            "<class 'torch.nn.parameter.Parameter'> torch.Size([768])\n",
            "<class 'torch.nn.parameter.Parameter'> torch.Size([768, 768])\n",
            "<class 'torch.nn.parameter.Parameter'> torch.Size([768])\n",
            "<class 'torch.nn.parameter.Parameter'> torch.Size([768])\n",
            "<class 'torch.nn.parameter.Parameter'> torch.Size([768])\n",
            "<class 'torch.nn.parameter.Parameter'> torch.Size([768, 768])\n",
            "<class 'torch.nn.parameter.Parameter'> torch.Size([768])\n",
            "<class 'torch.nn.parameter.Parameter'> torch.Size([768, 768])\n",
            "<class 'torch.nn.parameter.Parameter'> torch.Size([768])\n",
            "<class 'torch.nn.parameter.Parameter'> torch.Size([768, 768])\n",
            "<class 'torch.nn.parameter.Parameter'> torch.Size([768])\n",
            "<class 'torch.nn.parameter.Parameter'> torch.Size([768, 768])\n",
            "<class 'torch.nn.parameter.Parameter'> torch.Size([768])\n",
            "<class 'torch.nn.parameter.Parameter'> torch.Size([768])\n",
            "<class 'torch.nn.parameter.Parameter'> torch.Size([768])\n",
            "<class 'torch.nn.parameter.Parameter'> torch.Size([768, 768])\n",
            "<class 'torch.nn.parameter.Parameter'> torch.Size([768])\n",
            "<class 'torch.nn.parameter.Parameter'> torch.Size([768, 768])\n",
            "<class 'torch.nn.parameter.Parameter'> torch.Size([768])\n",
            "<class 'torch.nn.parameter.Parameter'> torch.Size([768, 768])\n",
            "<class 'torch.nn.parameter.Parameter'> torch.Size([768])\n",
            "<class 'torch.nn.parameter.Parameter'> torch.Size([768, 768])\n",
            "<class 'torch.nn.parameter.Parameter'> torch.Size([768])\n",
            "<class 'torch.nn.parameter.Parameter'> torch.Size([768])\n",
            "<class 'torch.nn.parameter.Parameter'> torch.Size([768])\n",
            "<class 'torch.nn.parameter.Parameter'> torch.Size([768, 768])\n",
            "<class 'torch.nn.parameter.Parameter'> torch.Size([768])\n",
            "<class 'torch.nn.parameter.Parameter'> torch.Size([768, 768])\n",
            "<class 'torch.nn.parameter.Parameter'> torch.Size([768])\n",
            "<class 'torch.nn.parameter.Parameter'> torch.Size([768, 768])\n",
            "<class 'torch.nn.parameter.Parameter'> torch.Size([768])\n",
            "<class 'torch.nn.parameter.Parameter'> torch.Size([768, 768])\n",
            "<class 'torch.nn.parameter.Parameter'> torch.Size([768])\n",
            "<class 'torch.nn.parameter.Parameter'> torch.Size([768])\n",
            "<class 'torch.nn.parameter.Parameter'> torch.Size([768])\n",
            "<class 'torch.nn.parameter.Parameter'> torch.Size([768, 768])\n",
            "<class 'torch.nn.parameter.Parameter'> torch.Size([768])\n",
            "<class 'torch.nn.parameter.Parameter'> torch.Size([768, 768])\n",
            "<class 'torch.nn.parameter.Parameter'> torch.Size([768])\n",
            "<class 'torch.nn.parameter.Parameter'> torch.Size([768, 768])\n",
            "<class 'torch.nn.parameter.Parameter'> torch.Size([768])\n",
            "<class 'torch.nn.parameter.Parameter'> torch.Size([768, 768])\n",
            "<class 'torch.nn.parameter.Parameter'> torch.Size([768])\n",
            "<class 'torch.nn.parameter.Parameter'> torch.Size([768])\n",
            "<class 'torch.nn.parameter.Parameter'> torch.Size([768])\n",
            "<class 'torch.Tensor'> torch.Size([32, 150])\n",
            "<class 'torch.Tensor'> torch.Size([32, 150])\n",
            "<class 'torch.Tensor'> torch.Size([32, 7])\n",
            "<class 'torch.Tensor'> torch.Size([32])\n",
            "<class 'torch.nn.parameter.Parameter'> torch.Size([3072, 768])\n",
            "<class 'torch.nn.parameter.Parameter'> torch.Size([3072])\n",
            "<class 'torch.nn.parameter.Parameter'> torch.Size([768, 3072])\n",
            "<class 'torch.nn.parameter.Parameter'> torch.Size([768])\n",
            "<class 'torch.nn.parameter.Parameter'> torch.Size([768])\n",
            "<class 'torch.nn.parameter.Parameter'> torch.Size([768])\n",
            "<class 'torch.nn.parameter.Parameter'> torch.Size([3072, 768])\n",
            "<class 'torch.nn.parameter.Parameter'> torch.Size([3072])\n",
            "<class 'torch.nn.parameter.Parameter'> torch.Size([768, 3072])\n",
            "<class 'torch.nn.parameter.Parameter'> torch.Size([768])\n",
            "<class 'torch.nn.parameter.Parameter'> torch.Size([768])\n",
            "<class 'torch.nn.parameter.Parameter'> torch.Size([768])\n",
            "<class 'torch.nn.parameter.Parameter'> torch.Size([3072, 768])\n",
            "<class 'torch.nn.parameter.Parameter'> torch.Size([3072])\n",
            "<class 'torch.nn.parameter.Parameter'> torch.Size([768, 3072])\n",
            "<class 'torch.nn.parameter.Parameter'> torch.Size([768])\n",
            "<class 'torch.nn.parameter.Parameter'> torch.Size([768])\n",
            "<class 'torch.nn.parameter.Parameter'> torch.Size([768])\n",
            "<class 'torch.nn.parameter.Parameter'> torch.Size([3072, 768])\n",
            "<class 'torch.nn.parameter.Parameter'> torch.Size([3072])\n",
            "<class 'torch.nn.parameter.Parameter'> torch.Size([768, 3072])\n",
            "<class 'torch.nn.parameter.Parameter'> torch.Size([768])\n",
            "<class 'torch.nn.parameter.Parameter'> torch.Size([768])\n",
            "<class 'torch.nn.parameter.Parameter'> torch.Size([768])\n",
            "<class 'torch.nn.parameter.Parameter'> torch.Size([3072, 768])\n",
            "<class 'torch.nn.parameter.Parameter'> torch.Size([3072])\n",
            "<class 'torch.nn.parameter.Parameter'> torch.Size([768, 3072])\n",
            "<class 'torch.nn.parameter.Parameter'> torch.Size([768])\n",
            "<class 'torch.nn.parameter.Parameter'> torch.Size([768])\n",
            "<class 'torch.nn.parameter.Parameter'> torch.Size([768])\n",
            "<class 'torch.nn.parameter.Parameter'> torch.Size([3072, 768])\n",
            "<class 'torch.nn.parameter.Parameter'> torch.Size([3072])\n",
            "<class 'torch.nn.parameter.Parameter'> torch.Size([768, 3072])\n",
            "<class 'torch.nn.parameter.Parameter'> torch.Size([768])\n",
            "<class 'torch.nn.parameter.Parameter'> torch.Size([768])\n",
            "<class 'torch.nn.parameter.Parameter'> torch.Size([768])\n",
            "<class 'torch.nn.parameter.Parameter'> torch.Size([3072, 768])\n",
            "<class 'torch.nn.parameter.Parameter'> torch.Size([3072])\n",
            "<class 'torch.nn.parameter.Parameter'> torch.Size([768, 3072])\n",
            "<class 'torch.nn.parameter.Parameter'> torch.Size([768])\n",
            "<class 'torch.nn.parameter.Parameter'> torch.Size([768])\n",
            "<class 'torch.nn.parameter.Parameter'> torch.Size([768])\n",
            "<class 'torch.nn.parameter.Parameter'> torch.Size([3072, 768])\n",
            "<class 'torch.nn.parameter.Parameter'> torch.Size([3072])\n",
            "<class 'torch.nn.parameter.Parameter'> torch.Size([768, 3072])\n",
            "<class 'torch.nn.parameter.Parameter'> torch.Size([768])\n",
            "<class 'torch.nn.parameter.Parameter'> torch.Size([768])\n",
            "<class 'torch.nn.parameter.Parameter'> torch.Size([768])\n",
            "<class 'torch.nn.parameter.Parameter'> torch.Size([3072, 768])\n",
            "<class 'torch.nn.parameter.Parameter'> torch.Size([3072])\n",
            "<class 'torch.nn.parameter.Parameter'> torch.Size([768, 3072])\n",
            "<class 'torch.nn.parameter.Parameter'> torch.Size([768])\n",
            "<class 'torch.nn.parameter.Parameter'> torch.Size([768])\n",
            "<class 'torch.nn.parameter.Parameter'> torch.Size([768])\n",
            "<class 'torch.nn.parameter.Parameter'> torch.Size([3072, 768])\n",
            "<class 'torch.nn.parameter.Parameter'> torch.Size([3072])\n",
            "<class 'torch.nn.parameter.Parameter'> torch.Size([768, 3072])\n",
            "<class 'torch.nn.parameter.Parameter'> torch.Size([768])\n",
            "<class 'torch.nn.parameter.Parameter'> torch.Size([768])\n",
            "<class 'torch.nn.parameter.Parameter'> torch.Size([768])\n",
            "<class 'torch.nn.parameter.Parameter'> torch.Size([3072, 768])\n",
            "<class 'torch.nn.parameter.Parameter'> torch.Size([3072])\n",
            "<class 'torch.nn.parameter.Parameter'> torch.Size([768, 3072])\n",
            "<class 'torch.nn.parameter.Parameter'> torch.Size([768])\n",
            "<class 'torch.nn.parameter.Parameter'> torch.Size([768])\n",
            "<class 'torch.nn.parameter.Parameter'> torch.Size([768])\n",
            "<class 'torch.nn.parameter.Parameter'> torch.Size([3072, 768])\n",
            "<class 'torch.nn.parameter.Parameter'> torch.Size([3072])\n",
            "<class 'torch.nn.parameter.Parameter'> torch.Size([768, 3072])\n",
            "<class 'torch.nn.parameter.Parameter'> torch.Size([768])\n",
            "<class 'torch.nn.parameter.Parameter'> torch.Size([768])\n",
            "<class 'torch.nn.parameter.Parameter'> torch.Size([768])\n",
            "<class 'torch.nn.parameter.Parameter'> torch.Size([768, 768])\n",
            "<class 'torch.nn.parameter.Parameter'> torch.Size([768])\n",
            "<class 'torch.nn.parameter.Parameter'> torch.Size([768, 768])\n",
            "<class 'torch.nn.parameter.Parameter'> torch.Size([768])\n",
            "<class 'torch.nn.parameter.Parameter'> torch.Size([768, 768])\n",
            "<class 'torch.nn.parameter.Parameter'> torch.Size([768])\n",
            "<class 'torch.nn.parameter.Parameter'> torch.Size([768, 768])\n",
            "<class 'torch.nn.parameter.Parameter'> torch.Size([768])\n",
            "<class 'torch.nn.parameter.Parameter'> torch.Size([768])\n",
            "<class 'torch.nn.parameter.Parameter'> torch.Size([768])\n",
            "<class 'torch.nn.parameter.Parameter'> torch.Size([768, 768])\n",
            "<class 'torch.nn.parameter.Parameter'> torch.Size([768])\n",
            "<class 'torch.nn.parameter.Parameter'> torch.Size([768, 768])\n",
            "<class 'torch.nn.parameter.Parameter'> torch.Size([768])\n",
            "<class 'torch.nn.parameter.Parameter'> torch.Size([768, 768])\n",
            "<class 'torch.nn.parameter.Parameter'> torch.Size([768])\n",
            "<class 'torch.nn.parameter.Parameter'> torch.Size([768, 768])\n",
            "<class 'torch.nn.parameter.Parameter'> torch.Size([768])\n",
            "<class 'torch.nn.parameter.Parameter'> torch.Size([768])\n",
            "<class 'torch.nn.parameter.Parameter'> torch.Size([768])\n",
            "<class 'torch.nn.parameter.Parameter'> torch.Size([768, 768])\n",
            "<class 'torch.nn.parameter.Parameter'> torch.Size([768])\n",
            "<class 'torch.nn.parameter.Parameter'> torch.Size([768, 768])\n",
            "<class 'torch.nn.parameter.Parameter'> torch.Size([768])\n",
            "<class 'torch.nn.parameter.Parameter'> torch.Size([768, 768])\n",
            "<class 'torch.nn.parameter.Parameter'> torch.Size([768])\n",
            "<class 'torch.nn.parameter.Parameter'> torch.Size([768, 768])\n",
            "<class 'torch.nn.parameter.Parameter'> torch.Size([768])\n",
            "<class 'torch.nn.parameter.Parameter'> torch.Size([768])\n",
            "<class 'torch.nn.parameter.Parameter'> torch.Size([768])\n",
            "<class 'torch.nn.parameter.Parameter'> torch.Size([768, 768])\n",
            "<class 'torch.nn.parameter.Parameter'> torch.Size([768])\n",
            "<class 'torch.nn.parameter.Parameter'> torch.Size([768, 768])\n",
            "<class 'torch.nn.parameter.Parameter'> torch.Size([768])\n",
            "<class 'torch.nn.parameter.Parameter'> torch.Size([768, 768])\n",
            "<class 'torch.nn.parameter.Parameter'> torch.Size([768])\n",
            "<class 'torch.nn.parameter.Parameter'> torch.Size([768, 768])\n",
            "<class 'torch.nn.parameter.Parameter'> torch.Size([768])\n",
            "<class 'torch.nn.parameter.Parameter'> torch.Size([768])\n",
            "<class 'torch.nn.parameter.Parameter'> torch.Size([768])\n",
            "<class 'torch.nn.parameter.Parameter'> torch.Size([768, 768])\n",
            "<class 'torch.nn.parameter.Parameter'> torch.Size([768])\n",
            "<class 'torch.nn.parameter.Parameter'> torch.Size([768, 768])\n",
            "<class 'torch.nn.parameter.Parameter'> torch.Size([768])\n",
            "<class 'torch.nn.parameter.Parameter'> torch.Size([768, 768])\n",
            "<class 'torch.nn.parameter.Parameter'> torch.Size([768])\n",
            "<class 'torch.nn.parameter.Parameter'> torch.Size([768, 768])\n",
            "<class 'torch.nn.parameter.Parameter'> torch.Size([768])\n",
            "<class 'torch.nn.parameter.Parameter'> torch.Size([768])\n",
            "<class 'torch.nn.parameter.Parameter'> torch.Size([768])\n",
            "<class 'torch.nn.parameter.Parameter'> torch.Size([768, 768])\n",
            "<class 'torch.nn.parameter.Parameter'> torch.Size([768])\n",
            "<class 'torch.nn.parameter.Parameter'> torch.Size([768, 768])\n",
            "<class 'torch.nn.parameter.Parameter'> torch.Size([768])\n",
            "<class 'torch.nn.parameter.Parameter'> torch.Size([768, 768])\n",
            "<class 'torch.nn.parameter.Parameter'> torch.Size([768])\n",
            "<class 'torch.nn.parameter.Parameter'> torch.Size([768, 768])\n",
            "<class 'torch.nn.parameter.Parameter'> torch.Size([768])\n",
            "<class 'torch.nn.parameter.Parameter'> torch.Size([768])\n",
            "<class 'torch.nn.parameter.Parameter'> torch.Size([768])\n",
            "<class 'torch.nn.parameter.Parameter'> torch.Size([768, 768])\n",
            "<class 'torch.nn.parameter.Parameter'> torch.Size([768])\n",
            "<class 'torch.nn.parameter.Parameter'> torch.Size([768, 768])\n",
            "<class 'torch.nn.parameter.Parameter'> torch.Size([768])\n",
            "<class 'torch.nn.parameter.Parameter'> torch.Size([768, 768])\n",
            "<class 'torch.nn.parameter.Parameter'> torch.Size([768])\n",
            "<class 'torch.nn.parameter.Parameter'> torch.Size([768, 768])\n",
            "<class 'torch.nn.parameter.Parameter'> torch.Size([768])\n",
            "<class 'torch.nn.parameter.Parameter'> torch.Size([768])\n",
            "<class 'torch.nn.parameter.Parameter'> torch.Size([768])\n",
            "<class 'torch.nn.parameter.Parameter'> torch.Size([768, 768])\n",
            "<class 'torch.nn.parameter.Parameter'> torch.Size([768])\n",
            "<class 'torch.nn.parameter.Parameter'> torch.Size([768, 768])\n",
            "<class 'torch.nn.parameter.Parameter'> torch.Size([768])\n",
            "<class 'torch.nn.parameter.Parameter'> torch.Size([768, 768])\n",
            "<class 'torch.nn.parameter.Parameter'> torch.Size([768])\n",
            "<class 'torch.nn.parameter.Parameter'> torch.Size([768, 768])\n",
            "<class 'torch.nn.parameter.Parameter'> torch.Size([768])\n",
            "<class 'torch.nn.parameter.Parameter'> torch.Size([768])\n",
            "<class 'torch.nn.parameter.Parameter'> torch.Size([768])\n",
            "<class 'torch.nn.parameter.Parameter'> torch.Size([768, 768])\n",
            "<class 'torch.nn.parameter.Parameter'> torch.Size([768])\n",
            "<class 'torch.nn.parameter.Parameter'> torch.Size([768, 768])\n",
            "<class 'torch.nn.parameter.Parameter'> torch.Size([768])\n",
            "<class 'torch.nn.parameter.Parameter'> torch.Size([768, 768])\n",
            "<class 'torch.nn.parameter.Parameter'> torch.Size([768])\n",
            "<class 'torch.nn.parameter.Parameter'> torch.Size([768, 768])\n",
            "<class 'torch.nn.parameter.Parameter'> torch.Size([768])\n",
            "<class 'torch.nn.parameter.Parameter'> torch.Size([768])\n",
            "<class 'torch.nn.parameter.Parameter'> torch.Size([768])\n",
            "<class 'torch.nn.parameter.Parameter'> torch.Size([768, 768])\n",
            "<class 'torch.nn.parameter.Parameter'> torch.Size([768])\n",
            "<class 'torch.nn.parameter.Parameter'> torch.Size([768, 768])\n",
            "<class 'torch.nn.parameter.Parameter'> torch.Size([768])\n",
            "<class 'torch.nn.parameter.Parameter'> torch.Size([768, 768])\n",
            "<class 'torch.nn.parameter.Parameter'> torch.Size([768])\n",
            "<class 'torch.nn.parameter.Parameter'> torch.Size([768, 768])\n",
            "<class 'torch.nn.parameter.Parameter'> torch.Size([768])\n",
            "<class 'torch.nn.parameter.Parameter'> torch.Size([768])\n",
            "<class 'torch.nn.parameter.Parameter'> torch.Size([768])\n",
            "<class 'torch.nn.parameter.Parameter'> torch.Size([768, 768])\n",
            "<class 'torch.nn.parameter.Parameter'> torch.Size([768])\n",
            "<class 'torch.nn.parameter.Parameter'> torch.Size([768, 768])\n",
            "<class 'torch.nn.parameter.Parameter'> torch.Size([768])\n",
            "<class 'torch.nn.parameter.Parameter'> torch.Size([768, 768])\n",
            "<class 'torch.nn.parameter.Parameter'> torch.Size([768])\n",
            "<class 'torch.nn.parameter.Parameter'> torch.Size([768, 768])\n",
            "<class 'torch.nn.parameter.Parameter'> torch.Size([768])\n",
            "<class 'torch.nn.parameter.Parameter'> torch.Size([768])\n",
            "<class 'torch.nn.parameter.Parameter'> torch.Size([768])\n",
            "<class 'torch.nn.parameter.Parameter'> torch.Size([768, 768])\n",
            "<class 'torch.nn.parameter.Parameter'> torch.Size([768])\n",
            "<class 'torch.nn.parameter.Parameter'> torch.Size([768, 768])\n",
            "<class 'torch.nn.parameter.Parameter'> torch.Size([768])\n",
            "<class 'torch.nn.parameter.Parameter'> torch.Size([768, 768])\n",
            "<class 'torch.nn.parameter.Parameter'> torch.Size([768])\n",
            "<class 'torch.nn.parameter.Parameter'> torch.Size([768, 768])\n",
            "<class 'torch.nn.parameter.Parameter'> torch.Size([768])\n",
            "<class 'torch.nn.parameter.Parameter'> torch.Size([768])\n",
            "<class 'torch.nn.parameter.Parameter'> torch.Size([768])\n",
            "<class 'torch.Tensor'> torch.Size([32, 150])\n",
            "<class 'torch.Tensor'> torch.Size([32, 150])\n",
            "<class 'torch.Tensor'> torch.Size([32, 150])\n",
            "<class 'torch.Tensor'> torch.Size([1, 150])\n",
            "<class 'torch.Tensor'> torch.Size([32, 1, 1, 150])\n",
            "<class 'torch.Tensor'> torch.Size([32, 150, 768])\n",
            "<class 'torch.Tensor'> torch.Size([32, 150, 768])\n",
            "<class 'torch.Tensor'> torch.Size([32, 12, 150, 150])\n",
            "<class 'torch.Tensor'> torch.Size([32, 150, 3072])\n",
            "<class 'torch.Tensor'> torch.Size([32])\n",
            "<class 'torch.Tensor'> torch.Size([32])\n",
            "<class 'torch.Tensor'> torch.Size([])\n",
            "<class 'torch.Tensor'> torch.Size([32, 92])\n",
            "<class 'torch.Tensor'> torch.Size([32, 92])\n",
            "<class 'torch.Tensor'> torch.Size([32, 7])\n",
            "<class 'torch.Tensor'> torch.Size([32])\n",
            "<class 'torch.Tensor'> torch.Size([32, 92])\n",
            "<class 'torch.Tensor'> torch.Size([32, 92])\n",
            "<class 'torch.Tensor'> torch.Size([32, 92])\n",
            "<class 'torch.Tensor'> torch.Size([1, 92])\n",
            "<class 'torch.Tensor'> torch.Size([32, 1, 1, 92])\n",
            "<class 'torch.Tensor'> torch.Size([32, 92, 768])\n",
            "<class 'torch.Tensor'> torch.Size([32, 92, 768])\n",
            "<class 'torch.Tensor'> torch.Size([32, 92, 768])\n",
            "<class 'torch.Tensor'> torch.Size([32, 92, 768])\n",
            "<class 'torch.Tensor'> torch.Size([32, 92, 768])\n",
            "<class 'torch.Tensor'> torch.Size([32, 92, 768])\n",
            "<class 'torch.Tensor'> torch.Size([32, 92, 768])\n",
            "<class 'torch.Tensor'> torch.Size([32, 12, 92, 92])\n",
            "<class 'torch.Tensor'> torch.Size([32, 12, 92, 92])\n",
            "<class 'torch.Tensor'> torch.Size([32, 12, 92, 92])\n",
            "<class 'torch.Tensor'> torch.Size([32, 12, 92, 92])\n",
            "<class 'torch.Tensor'> torch.Size([32, 12, 92, 92])\n",
            "<class 'torch.Tensor'> torch.Size([32, 12, 92, 92])\n",
            "<class 'torch.Tensor'> torch.Size([32, 92, 768])\n",
            "<class 'torch.Tensor'> torch.Size([32, 12, 92, 92])\n",
            "<class 'torch.Tensor'> torch.Size([32, 92, 3072])\n",
            "<class 'torch.Tensor'> torch.Size([32, 235, 3072])\n",
            "<class 'torch.Tensor'> torch.Size([32, 12, 235, 235])\n",
            "<class 'torch.Tensor'> torch.Size([32, 235, 768])\n",
            "<class 'torch.Tensor'> torch.Size([32, 12, 235, 235])\n",
            "<class 'torch.Tensor'> torch.Size([32, 12, 235, 235])\n",
            "<class 'torch.Tensor'> torch.Size([32, 12, 235, 235])\n",
            "<class 'torch.Tensor'> torch.Size([32, 12, 235, 235])\n",
            "<class 'torch.Tensor'> torch.Size([32, 12, 235, 235])\n",
            "<class 'torch.Tensor'> torch.Size([32, 12, 235, 235])\n",
            "<class 'torch.Tensor'> torch.Size([32, 12, 235, 235])\n",
            "<class 'torch.Tensor'> torch.Size([32, 12, 235, 235])\n",
            "<class 'torch.Tensor'> torch.Size([32, 12, 235, 235])\n",
            "<class 'torch.Tensor'> torch.Size([32, 12, 235, 235])\n",
            "<class 'torch.Tensor'> torch.Size([32, 12, 235, 235])\n",
            "<class 'torch.Tensor'> torch.Size([32, 235, 768])\n",
            "<class 'torch.Tensor'> torch.Size([32, 235, 768])\n",
            "<class 'torch.Tensor'> torch.Size([32, 235, 768])\n",
            "<class 'torch.Tensor'> torch.Size([32, 235, 768])\n",
            "<class 'torch.Tensor'> torch.Size([32, 235, 768])\n",
            "<class 'torch.Tensor'> torch.Size([32, 235, 768])\n",
            "<class 'torch.Tensor'> torch.Size([32, 235, 768])\n",
            "<class 'torch.Tensor'> torch.Size([32, 235, 768])\n",
            "<class 'torch.Tensor'> torch.Size([32, 235, 768])\n",
            "<class 'torch.Tensor'> torch.Size([32, 235, 768])\n",
            "<class 'torch.Tensor'> torch.Size([32, 235, 768])\n",
            "<class 'torch.Tensor'> torch.Size([32, 235, 768])\n",
            "<class 'torch.Tensor'> torch.Size([32, 1, 1, 235])\n",
            "<class 'torch.Tensor'> torch.Size([1, 235])\n",
            "<class 'torch.Tensor'> torch.Size([32, 235])\n",
            "<class 'torch.Tensor'> torch.Size([32, 235])\n",
            "<class 'torch.Tensor'> torch.Size([32, 235])\n",
            "<class 'torch.Tensor'> torch.Size([32])\n",
            "<class 'torch.Tensor'> torch.Size([32, 7])\n",
            "<class 'torch.Tensor'> torch.Size([32, 235])\n",
            "<class 'torch.Tensor'> torch.Size([32, 235])\n",
            "<class 'torch.Tensor'> torch.Size([64, 12, 512, 64])\n",
            "<class 'torch.Tensor'> torch.Size([64, 12, 512, 64])\n",
            "<class 'torch.Tensor'> torch.Size([64, 12, 512, 64])\n",
            "<class 'torch.Tensor'> torch.Size([64, 512, 768])\n",
            "<class 'torch.Tensor'> torch.Size([64, 12, 512, 512])\n",
            "<class 'torch.Tensor'> torch.Size([64, 12, 512, 512])\n",
            "<class 'torch.Tensor'> torch.Size([64, 12, 512, 512])\n",
            "<class 'torch.Tensor'> torch.Size([64, 12, 512, 512])\n",
            "<class 'torch.Tensor'> torch.Size([64, 12, 512, 512])\n",
            "<class 'torch.Tensor'> torch.Size([64, 12, 512, 512])\n",
            "<class 'torch.Tensor'> torch.Size([64, 12, 512, 512])\n",
            "<class 'torch.Tensor'> torch.Size([64, 12, 512, 512])\n",
            "<class 'torch.Tensor'> torch.Size([64, 12, 512, 512])\n",
            "<class 'torch.Tensor'> torch.Size([64, 512, 768])\n",
            "<class 'torch.Tensor'> torch.Size([64, 512, 768])\n",
            "<class 'torch.Tensor'> torch.Size([64, 512, 768])\n",
            "<class 'torch.Tensor'> torch.Size([64, 512, 768])\n",
            "<class 'torch.Tensor'> torch.Size([64, 512, 768])\n",
            "<class 'torch.Tensor'> torch.Size([64, 512, 768])\n",
            "<class 'torch.Tensor'> torch.Size([64, 512, 768])\n",
            "<class 'torch.Tensor'> torch.Size([64, 512, 768])\n",
            "<class 'torch.Tensor'> torch.Size([64, 512, 768])\n",
            "<class 'torch.Tensor'> torch.Size([64, 512, 768])\n",
            "<class 'torch.Tensor'> torch.Size([64, 1, 1, 512])\n",
            "<class 'torch.Tensor'> torch.Size([1, 512])\n",
            "<class 'torch.Tensor'> torch.Size([64, 512])\n",
            "<class 'torch.Tensor'> torch.Size([64, 512])\n",
            "<class 'torch.Tensor'> torch.Size([64, 512])\n",
            "<class 'torch.Tensor'> torch.Size([64])\n",
            "<class 'torch.Tensor'> torch.Size([64, 7])\n",
            "<class 'torch.Tensor'> torch.Size([64, 512])\n",
            "<class 'torch.Tensor'> torch.Size([64, 512])\n"
          ]
        }
      ]
    },
    {
      "cell_type": "code",
      "metadata": {
        "id": "9-ezJVNBRShH"
      },
      "source": [
        ""
      ],
      "execution_count": null,
      "outputs": []
    }
  ]
}